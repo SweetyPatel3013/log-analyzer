{
 "cells": [
  {
   "cell_type": "markdown",
   "metadata": {},
   "source": [
    "# Server Log Analysis\r\n",
    "\r\n",
    "> Akhilesh Muthusamy – C0791987  \r\n",
    "> Gursanjam Kaur – C0788089  \r\n",
    "> Sai Charitha – C0787250  \r\n",
    "> Sweety Patel - C0789805  \r\n"
   ]
  },
  {
   "cell_type": "code",
   "execution_count": 1,
   "metadata": {},
   "outputs": [],
   "source": [
    "import numpy as np\r\n",
    "import pandas as pd"
   ]
  },
  {
   "cell_type": "code",
   "execution_count": 2,
   "metadata": {},
   "outputs": [
    {
     "data": {
      "text/html": "<div>\n<style scoped>\n    .dataframe tbody tr th:only-of-type {\n        vertical-align: middle;\n    }\n\n    .dataframe tbody tr th {\n        vertical-align: top;\n    }\n\n    .dataframe thead th {\n        text-align: right;\n    }\n</style>\n<table border=\"1\" class=\"dataframe\">\n  <thead>\n    <tr style=\"text-align: right;\">\n      <th></th>\n      <th>Date</th>\n      <th>Time</th>\n      <th>Hostname</th>\n      <th>Message</th>\n      <th>Severity</th>\n      <th>Process</th>\n      <th>PID</th>\n      <th>User</th>\n      <th>IP</th>\n      <th>Len</th>\n    </tr>\n  </thead>\n  <tbody>\n    <tr>\n      <th>0</th>\n      <td>2019-06-09</td>\n      <td>06:06:20</td>\n      <td>combo</td>\n      <td>restart.</td>\n      <td>0</td>\n      <td>syslogd 1.4.1</td>\n      <td>NaN</td>\n      <td>root</td>\n      <td>127.0.0.1</td>\n      <td>8</td>\n    </tr>\n    <tr>\n      <th>1</th>\n      <td>2019-06-09</td>\n      <td>06:06:20</td>\n      <td>combo</td>\n      <td>syslogd startup succeeded</td>\n      <td>0</td>\n      <td>syslog</td>\n      <td>NaN</td>\n      <td>root</td>\n      <td>127.0.0.1</td>\n      <td>25</td>\n    </tr>\n    <tr>\n      <th>2</th>\n      <td>2019-06-09</td>\n      <td>06:06:20</td>\n      <td>combo</td>\n      <td>klogd startup succeeded</td>\n      <td>0</td>\n      <td>syslog</td>\n      <td>NaN</td>\n      <td>root</td>\n      <td>127.0.0.1</td>\n      <td>23</td>\n    </tr>\n    <tr>\n      <th>3</th>\n      <td>2019-06-09</td>\n      <td>06:06:20</td>\n      <td>combo</td>\n      <td>klogd 1.4.1, log source = /proc/kmsg started.</td>\n      <td>0</td>\n      <td>kernel</td>\n      <td>NaN</td>\n      <td>root</td>\n      <td>127.0.0.1</td>\n      <td>45</td>\n    </tr>\n    <tr>\n      <th>4</th>\n      <td>2019-06-09</td>\n      <td>06:06:20</td>\n      <td>combo</td>\n      <td>Linux version 2.6.5-1.358 (bhcompile@bugs.buil...</td>\n      <td>0</td>\n      <td>kernel</td>\n      <td>NaN</td>\n      <td>root</td>\n      <td>127.0.0.1</td>\n      <td>143</td>\n    </tr>\n  </tbody>\n</table>\n</div>",
      "text/plain": "         Date      Time Hostname  \\\n0  2019-06-09  06:06:20   combo    \n1  2019-06-09  06:06:20   combo    \n2  2019-06-09  06:06:20   combo    \n3  2019-06-09  06:06:20   combo    \n4  2019-06-09  06:06:20   combo    \n\n                                             Message  Severity        Process  \\\n0                                           restart.         0  syslogd 1.4.1   \n1                          syslogd startup succeeded         0         syslog   \n2                            klogd startup succeeded         0         syslog   \n3      klogd 1.4.1, log source = /proc/kmsg started.         0         kernel   \n4  Linux version 2.6.5-1.358 (bhcompile@bugs.buil...         0         kernel   \n\n   PID  User         IP  Len  \n0  NaN  root  127.0.0.1    8  \n1  NaN  root  127.0.0.1   25  \n2  NaN  root  127.0.0.1   23  \n3  NaN  root  127.0.0.1   45  \n4  NaN  root  127.0.0.1  143  "
     },
     "execution_count": 2,
     "metadata": {},
     "output_type": "execute_result"
    }
   ],
   "source": [
    "df = pd.read_csv(r'./data/Linux_v2_2.csv')\r\n",
    "df.head()"
   ]
  },
  {
   "cell_type": "code",
   "execution_count": 3,
   "metadata": {},
   "outputs": [
    {
     "name": "stdout",
     "output_type": "stream",
     "text": [
      "<class 'pandas.core.frame.DataFrame'>\n",
      "RangeIndex: 25706 entries, 0 to 25705\n",
      "Data columns (total 10 columns):\n",
      " #   Column    Non-Null Count  Dtype \n",
      "---  ------    --------------  ----- \n",
      " 0   Date      25706 non-null  object\n",
      " 1   Time      25706 non-null  object\n",
      " 2   Hostname  25706 non-null  object\n",
      " 3   Message   25613 non-null  object\n",
      " 4   Severity  25706 non-null  int64 \n",
      " 5   Process   25688 non-null  object\n",
      " 6   PID       11176 non-null  object\n",
      " 7   User      25706 non-null  object\n",
      " 8   IP        25706 non-null  object\n",
      " 9   Len       25706 non-null  int64 \n",
      "dtypes: int64(2), object(8)\n",
      "memory usage: 2.0+ MB\n"
     ]
    }
   ],
   "source": [
    "df.info()"
   ]
  },
  {
   "cell_type": "code",
   "execution_count": 4,
   "metadata": {},
   "outputs": [
    {
     "name": "stdout",
     "output_type": "stream",
     "text": [
      "<class 'pandas.core.frame.DataFrame'>\n",
      "RangeIndex: 25706 entries, 0 to 25705\n",
      "Data columns (total 10 columns):\n",
      " #   Column    Non-Null Count  Dtype         \n",
      "---  ------    --------------  -----         \n",
      " 0   Date      25706 non-null  datetime64[ns]\n",
      " 1   Time      25706 non-null  object        \n",
      " 2   Hostname  25706 non-null  object        \n",
      " 3   Message   25613 non-null  object        \n",
      " 4   Severity  25706 non-null  int64         \n",
      " 5   Process   25688 non-null  object        \n",
      " 6   PID       11176 non-null  object        \n",
      " 7   User      25706 non-null  object        \n",
      " 8   IP        25706 non-null  object        \n",
      " 9   Len       25706 non-null  int64         \n",
      "dtypes: datetime64[ns](1), int64(2), object(7)\n",
      "memory usage: 2.0+ MB\n"
     ]
    }
   ],
   "source": [
    "# convert the 'Date' column to datetime format\r\n",
    "df['Date'] = df['Date'].astype('datetime64[ns]')\r\n",
    "df.info()"
   ]
  },
  {
   "cell_type": "code",
   "execution_count": 5,
   "metadata": {},
   "outputs": [
    {
     "name": "stdout",
     "output_type": "stream",
     "text": [
      "(25706, 10)\n"
     ]
    }
   ],
   "source": [
    "print(df.shape)"
   ]
  },
  {
   "cell_type": "markdown",
   "metadata": {},
   "source": [
    "# Data Visualization"
   ]
  },
  {
   "cell_type": "code",
   "execution_count": 6,
   "metadata": {},
   "outputs": [],
   "source": [
    "import matplotlib.pyplot as plt\r\n",
    "plt.rcParams[\"figure.figsize\"] = (20,10)"
   ]
  },
  {
   "cell_type": "code",
   "execution_count": 7,
   "metadata": {},
   "outputs": [
    {
     "data": {
      "image/png": "[encoded data removed]",
      "text/plain": "<Figure size 1440x720 with 1 Axes>"
     },
     "metadata": {
      "needs_background": "light"
     },
     "output_type": "display_data"
    }
   ],
   "source": [
    "daily_log_count = {}\r\n",
    "df_dtgrp = df.groupby('Date')['Severity']\r\n",
    "for date, grp in df_dtgrp:\r\n",
    "    daily_log_count[date] = dict(grp.value_counts())\r\n",
    "\r\n",
    "df_bar = pd.DataFrame(data=daily_log_count).T\r\n",
    "df_bar.index.astype('datetime64[ns]')\r\n",
    "df_bar.sort_index(inplace=True)\r\n",
    "df_bar.loc['2019-07-01':'2019-07-31'].plot(kind='bar');"
   ]
  },
  {
   "cell_type": "markdown",
   "metadata": {},
   "source": [
    "## Handling Null values"
   ]
  },
  {
   "cell_type": "code",
   "execution_count": 8,
   "metadata": {},
   "outputs": [
    {
     "data": {
      "text/plain": "Date            0\nTime            0\nHostname        0\nMessage        93\nSeverity        0\nProcess        18\nPID         14530\nUser            0\nIP              0\nLen             0\ndtype: int64"
     },
     "execution_count": 8,
     "metadata": {},
     "output_type": "execute_result"
    }
   ],
   "source": [
    "df.isnull().sum()"
   ]
  },
  {
   "cell_type": "code",
   "execution_count": 9,
   "metadata": {},
   "outputs": [],
   "source": [
    "df.dropna(subset=['Message'], inplace=True)\r\n",
    "df.dropna(subset=['Process'], inplace=True)"
   ]
  },
  {
   "cell_type": "code",
   "execution_count": 10,
   "metadata": {},
   "outputs": [],
   "source": [
    "import math\r\n",
    "\r\n",
    "def handle_null_pid(id):\r\n",
    "    if isinstance(id, str):\r\n",
    "        id = id[1:-1]\r\n",
    "    elif math.isnan(id):\r\n",
    "        id = 0\r\n",
    "     \r\n",
    "    return id"
   ]
  },
  {
   "cell_type": "code",
   "execution_count": 11,
   "metadata": {},
   "outputs": [],
   "source": [
    "df['PID'] = df['PID'].apply(handle_null_pid)"
   ]
  },
  {
   "cell_type": "code",
   "execution_count": 12,
   "metadata": {},
   "outputs": [
    {
     "data": {
      "text/plain": "Date        0\nTime        0\nHostname    0\nMessage     0\nSeverity    0\nProcess     0\nPID         0\nUser        0\nIP          0\nLen         0\ndtype: int64"
     },
     "execution_count": 12,
     "metadata": {},
     "output_type": "execute_result"
    }
   ],
   "source": [
    "df.isnull().sum()\r\n"
   ]
  },
  {
   "cell_type": "markdown",
   "metadata": {},
   "source": [
    "## Data Cleaning"
   ]
  },
  {
   "cell_type": "code",
   "execution_count": 13,
   "metadata": {},
   "outputs": [],
   "source": [
    "import re\r\n",
    "import nltk\r\n",
    "from nltk.corpus import stopwords\r\n",
    "from nltk.stem import PorterStemmer\r\n",
    "\r\n",
    "en_stopwords = set(stopwords.words('english')) \r\n",
    "\r\n",
    "def clean_content(message: str):\r\n",
    "\r\n",
    "    try:\r\n",
    "        # Converting content to lowercase\r\n",
    "        message = message.lower()\r\n",
    "        # Replace date time string to word TIMESTAMP\r\n",
    "        message = re.sub(r\"[a-z]{3} [a-z]{3} [0-9]{2} [0-9]{2}:[0-9]{2}:[0-9]{2} [0-9]{4}\", 'TIMESTAMP', message)\r\n",
    "        # Replace ip-address string to word IPADDRESS\r\n",
    "        message = re.sub(r\"\\b\\d{1,3}\\.\\d{1,3}\\.\\d{1,3}\\.\\d{1,3}\\b\", 'IPADDRESS', message)\r\n",
    "        # Replace hexa decimal string to word HEXCODE\r\n",
    "        message = re.sub(r\"\\b0x[0-9A-F]+\\b\", 'HEXCODE', message)\r\n",
    "        # Replace URL with word URLORDOMAIN\r\n",
    "        message = re.sub(r'(?:https?:\\/\\/)?([a-zA-Z][a-zA-Z0-9._\\-]+.[a-zA-Z0-9]+(\\.[a-zA-Z0-9._\\-]{2,3})+)', 'URLORDOMAIN', message)\r\n",
    "        # Replace numbers to word NUMBER\r\n",
    "        message = re.sub(r\"\\b\\d{1,3}\\b\", 'NUMBER', message)\r\n",
    "        # Remove characters apart from alphabets\r\n",
    "        message = re.sub('([^A-Za-z ])+', ' ', message)\r\n",
    "        # Remove words less than 3 characters\r\n",
    "        message = re.sub(r'(\\b.{1,2}\\s)+', ' ', message)\r\n",
    "        # Remove mulitiple whitespace\r\n",
    "        message = re.sub(r' +', ' ', message)\r\n",
    "\r\n",
    "        # Removing stopwords & perform stemming\r\n",
    "        porter = PorterStemmer()\r\n",
    "\r\n",
    "        clean_str = []\r\n",
    "        word_tokens = nltk.word_tokenize(message)\r\n",
    "        for word in word_tokens: \r\n",
    "            if word not in en_stopwords:\r\n",
    "                clean_str.append(porter.stem(word))\r\n",
    "        \r\n",
    "        message = ' '.join(clean_str)\r\n",
    "\r\n",
    "        \r\n",
    "\r\n",
    "    except:\r\n",
    "        print('Error')\r\n",
    "    \r\n",
    "    \r\n",
    "    return message"
   ]
  },
  {
   "cell_type": "code",
   "execution_count": 14,
   "metadata": {},
   "outputs": [
    {
     "data": {
      "text/html": "<div>\n<style scoped>\n    .dataframe tbody tr th:only-of-type {\n        vertical-align: middle;\n    }\n\n    .dataframe tbody tr th {\n        vertical-align: top;\n    }\n\n    .dataframe thead th {\n        text-align: right;\n    }\n</style>\n<table border=\"1\" class=\"dataframe\">\n  <thead>\n    <tr style=\"text-align: right;\">\n      <th></th>\n      <th>Date</th>\n      <th>Time</th>\n      <th>Hostname</th>\n      <th>Message</th>\n      <th>Severity</th>\n      <th>Process</th>\n      <th>PID</th>\n      <th>User</th>\n      <th>IP</th>\n      <th>Len</th>\n    </tr>\n  </thead>\n  <tbody>\n    <tr>\n      <th>23524</th>\n      <td>2020-01-26</td>\n      <td>12:22:08</td>\n      <td>combo</td>\n      <td>pci hotplug pci hot plug pci core version numb...</td>\n      <td>0</td>\n      <td>kernel</td>\n      <td>0</td>\n      <td>root</td>\n      <td>127.0.0.1</td>\n      <td>47</td>\n    </tr>\n    <tr>\n      <th>6181</th>\n      <td>2019-09-28</td>\n      <td>09:12:24</td>\n      <td>combo</td>\n      <td>remov devic node udev vcsa</td>\n      <td>0</td>\n      <td>udev</td>\n      <td>2452</td>\n      <td>root</td>\n      <td>127.0.0.1</td>\n      <td>34</td>\n    </tr>\n    <tr>\n      <th>19329</th>\n      <td>2019-12-04</td>\n      <td>16:31:35</td>\n      <td>combo</td>\n      <td>memori kill process httpd</td>\n      <td>1</td>\n      <td>kernel</td>\n      <td>0</td>\n      <td>root</td>\n      <td>127.0.0.1</td>\n      <td>43</td>\n    </tr>\n    <tr>\n      <th>23129</th>\n      <td>2020-01-23</td>\n      <td>06:10:34</td>\n      <td>combo</td>\n      <td>authent failur lognam uid number euid number t...</td>\n      <td>1</td>\n      <td>sshd(pam_unix)</td>\n      <td>28623</td>\n      <td>root</td>\n      <td>127.0.0.1</td>\n      <td>104</td>\n    </tr>\n    <tr>\n      <th>2272</th>\n      <td>2019-07-13</td>\n      <td>04:10:41</td>\n      <td>combo</td>\n      <td>session open user news uid number</td>\n      <td>0</td>\n      <td>su(pam_unix)</td>\n      <td>6863</td>\n      <td>root</td>\n      <td>127.0.0.1</td>\n      <td>39</td>\n    </tr>\n    <tr>\n      <th>12797</th>\n      <td>2019-11-22</td>\n      <td>13:10:41</td>\n      <td>combo</td>\n      <td>memori kill process python</td>\n      <td>1</td>\n      <td>kernel</td>\n      <td>0</td>\n      <td>root</td>\n      <td>127.0.0.1</td>\n      <td>44</td>\n    </tr>\n    <tr>\n      <th>25264</th>\n      <td>2020-02-22</td>\n      <td>23:41:37</td>\n      <td>combo</td>\n      <td>connect ipaddress urlordomain timestamp</td>\n      <td>0</td>\n      <td>ftpd</td>\n      <td>6053</td>\n      <td>root</td>\n      <td>24.229.9.65</td>\n      <td>90</td>\n    </tr>\n    <tr>\n      <th>17096</th>\n      <td>2019-11-30</td>\n      <td>11:55:22</td>\n      <td>combo</td>\n      <td>memori kill process python</td>\n      <td>1</td>\n      <td>kernel</td>\n      <td>0</td>\n      <td>root</td>\n      <td>127.0.0.1</td>\n      <td>44</td>\n    </tr>\n    <tr>\n      <th>8725</th>\n      <td>2019-11-17</td>\n      <td>04:29:47</td>\n      <td>combo</td>\n      <td>check pass user unknown</td>\n      <td>0</td>\n      <td>sshd(pam_unix)</td>\n      <td>5130</td>\n      <td>root</td>\n      <td>127.0.0.1</td>\n      <td>24</td>\n    </tr>\n    <tr>\n      <th>7929</th>\n      <td>2019-11-05</td>\n      <td>06:41:57</td>\n      <td>combo</td>\n      <td>connect ipaddress urlordomain sat nov number n...</td>\n      <td>0</td>\n      <td>ftpd</td>\n      <td>11300</td>\n      <td>root</td>\n      <td>84.57.172.16</td>\n      <td>99</td>\n    </tr>\n  </tbody>\n</table>\n</div>",
      "text/plain": "            Date      Time Hostname  \\\n23524 2020-01-26  12:22:08   combo    \n6181  2019-09-28  09:12:24   combo    \n19329 2019-12-04  16:31:35   combo    \n23129 2020-01-23  06:10:34   combo    \n2272  2019-07-13  04:10:41   combo    \n12797 2019-11-22  13:10:41   combo    \n25264 2020-02-22  23:41:37   combo    \n17096 2019-11-30  11:55:22   combo    \n8725  2019-11-17  04:29:47   combo    \n7929  2019-11-05  06:41:57   combo    \n\n                                                 Message  Severity  \\\n23524  pci hotplug pci hot plug pci core version numb...         0   \n6181                          remov devic node udev vcsa         0   \n19329                          memori kill process httpd         1   \n23129  authent failur lognam uid number euid number t...         1   \n2272                   session open user news uid number         0   \n12797                         memori kill process python         1   \n25264            connect ipaddress urlordomain timestamp         0   \n17096                         memori kill process python         1   \n8725                             check pass user unknown         0   \n7929   connect ipaddress urlordomain sat nov number n...         0   \n\n              Process    PID  User            IP  Len  \n23524          kernel      0  root     127.0.0.1   47  \n6181             udev   2452  root     127.0.0.1   34  \n19329          kernel      0  root     127.0.0.1   43  \n23129  sshd(pam_unix)  28623  root     127.0.0.1  104  \n2272     su(pam_unix)   6863  root     127.0.0.1   39  \n12797          kernel      0  root     127.0.0.1   44  \n25264            ftpd   6053  root   24.229.9.65   90  \n17096          kernel      0  root     127.0.0.1   44  \n8725   sshd(pam_unix)   5130  root     127.0.0.1   24  \n7929             ftpd  11300  root  84.57.172.16   99  "
     },
     "execution_count": 14,
     "metadata": {},
     "output_type": "execute_result"
    }
   ],
   "source": [
    "df['Message'] = df['Message'].apply(clean_content)\r\n",
    "df.sample(10)"
   ]
  },
  {
   "cell_type": "markdown",
   "metadata": {},
   "source": [
    "### Examples"
   ]
  },
  {
   "cell_type": "code",
   "execution_count": 15,
   "metadata": {},
   "outputs": [
    {
     "data": {
      "text/plain": "'connect ipaddress timestamp'"
     },
     "execution_count": 15,
     "metadata": {},
     "output_type": "execute_result"
    }
   ],
   "source": [
    "df.loc[22339]['Message']"
   ]
  },
  {
   "cell_type": "code",
   "execution_count": 16,
   "metadata": {},
   "outputs": [
    {
     "data": {
      "text/plain": "'user unknown time number second timestamp'"
     },
     "execution_count": 16,
     "metadata": {},
     "output_type": "execute_result"
    }
   ],
   "source": [
    "message = 'User unknown timed out after 900 seconds at Sat Jun 18 02:23:10 2005 '\r\n",
    "clean_content(message)"
   ]
  },
  {
   "cell_type": "code",
   "execution_count": 17,
   "metadata": {},
   "outputs": [
    {
     "data": {
      "text/plain": "'User unknown timed out after 900 seconds at TIMESTAMP '"
     },
     "execution_count": 17,
     "metadata": {},
     "output_type": "execute_result"
    }
   ],
   "source": [
    "message = 'User unknown timed out after 900 seconds at Sat Jun 18 02:23:10 2005 '\r\n",
    "re.sub(r\"[A-Z][a-z]{2} [A-Z][a-z]{2} [0-9]{2} [0-9]{2}:[0-9]{2}:[0-9]{2} [0-9]{4}\", 'TIMESTAMP', message)"
   ]
  },
  {
   "cell_type": "markdown",
   "metadata": {},
   "source": [
    "### Remove duplicate messages"
   ]
  },
  {
   "cell_type": "code",
   "execution_count": 18,
   "metadata": {},
   "outputs": [
    {
     "data": {
      "text/html": "<div>\n<style scoped>\n    .dataframe tbody tr th:only-of-type {\n        vertical-align: middle;\n    }\n\n    .dataframe tbody tr th {\n        vertical-align: top;\n    }\n\n    .dataframe thead th {\n        text-align: right;\n    }\n</style>\n<table border=\"1\" class=\"dataframe\">\n  <thead>\n    <tr style=\"text-align: right;\">\n      <th></th>\n      <th>Date</th>\n      <th>Time</th>\n      <th>Hostname</th>\n      <th>Message</th>\n      <th>Severity</th>\n      <th>Process</th>\n      <th>PID</th>\n      <th>User</th>\n      <th>IP</th>\n      <th>Len</th>\n    </tr>\n  </thead>\n  <tbody>\n    <tr>\n      <th>3367</th>\n      <td>2019-08-02</td>\n      <td>08:03:37</td>\n      <td>combo</td>\n      <td>close</td>\n      <td>0</td>\n      <td>gpm</td>\n      <td>2076</td>\n      <td>root</td>\n      <td>127.0.0.1</td>\n      <td>7</td>\n    </tr>\n    <tr>\n      <th>82</th>\n      <td>2019-06-09</td>\n      <td>06:06:21</td>\n      <td>combo</td>\n      <td>isapnp scan urlordomain</td>\n      <td>0</td>\n      <td>kernel</td>\n      <td>0</td>\n      <td>root</td>\n      <td>127.0.0.1</td>\n      <td>33</td>\n    </tr>\n    <tr>\n      <th>23861</th>\n      <td>2020-01-26</td>\n      <td>12:22:43</td>\n      <td>combo</td>\n      <td>urlordomain avc deni ioctl pid exe usr sbin hc...</td>\n      <td>1</td>\n      <td>kernel</td>\n      <td>0</td>\n      <td>root</td>\n      <td>127.0.0.1</td>\n      <td>205</td>\n    </tr>\n    <tr>\n      <th>11837</th>\n      <td>2019-11-21</td>\n      <td>12:41:10</td>\n      <td>combo</td>\n      <td>handl fault</td>\n      <td>1</td>\n      <td>kernel</td>\n      <td>0</td>\n      <td>root</td>\n      <td>127.0.0.1</td>\n      <td>39</td>\n    </tr>\n    <tr>\n      <th>267</th>\n      <td>2019-06-09</td>\n      <td>06:07:16</td>\n      <td>combo</td>\n      <td>net snmp urlordomain</td>\n      <td>0</td>\n      <td>snmpd</td>\n      <td>2287</td>\n      <td>root</td>\n      <td>127.0.0.1</td>\n      <td>23</td>\n    </tr>\n    <tr>\n      <th>8224</th>\n      <td>2019-11-10</td>\n      <td>16:00:31</td>\n      <td>combo</td>\n      <td>hda drive readi command</td>\n      <td>0</td>\n      <td>kernel</td>\n      <td>0</td>\n      <td>root</td>\n      <td>127.0.0.1</td>\n      <td>32</td>\n    </tr>\n    <tr>\n      <th>23629</th>\n      <td>2020-01-26</td>\n      <td>12:22:13</td>\n      <td>combo</td>\n      <td>urlordomain item number name proc sy net econet</td>\n      <td>0</td>\n      <td>kernel</td>\n      <td>0</td>\n      <td>root</td>\n      <td>127.0.0.1</td>\n      <td>62</td>\n    </tr>\n    <tr>\n      <th>5888</th>\n      <td>2019-09-28</td>\n      <td>09:09:17</td>\n      <td>combo</td>\n      <td>kernel log daemon termin</td>\n      <td>1</td>\n      <td>kernel</td>\n      <td>0</td>\n      <td>root</td>\n      <td>127.0.0.1</td>\n      <td>30</td>\n    </tr>\n    <tr>\n      <th>25273</th>\n      <td>2020-02-23</td>\n      <td>12:02:26</td>\n      <td>combo</td>\n      <td>authent failur lognam uid number euid number t...</td>\n      <td>1</td>\n      <td>sshd(pam_unix)</td>\n      <td>6064</td>\n      <td>root</td>\n      <td>80.34.110.175</td>\n      <td>95</td>\n    </tr>\n    <tr>\n      <th>12527</th>\n      <td>2019-11-22</td>\n      <td>09:25:55</td>\n      <td>combo</td>\n      <td>bdc proc hexcod</td>\n      <td>1</td>\n      <td>kernel</td>\n      <td>0</td>\n      <td>root</td>\n      <td>127.0.0.1</td>\n      <td>34</td>\n    </tr>\n  </tbody>\n</table>\n</div>",
      "text/plain": "            Date      Time Hostname  \\\n3367  2019-08-02  08:03:37   combo    \n82    2019-06-09  06:06:21   combo    \n23861 2020-01-26  12:22:43   combo    \n11837 2019-11-21  12:41:10   combo    \n267   2019-06-09  06:07:16   combo    \n8224  2019-11-10  16:00:31   combo    \n23629 2020-01-26  12:22:13   combo    \n5888  2019-09-28  09:09:17   combo    \n25273 2020-02-23  12:02:26   combo    \n12527 2019-11-22  09:25:55   combo    \n\n                                                 Message  Severity  \\\n3367                                               close         0   \n82                               isapnp scan urlordomain         0   \n23861  urlordomain avc deni ioctl pid exe usr sbin hc...         1   \n11837                                        handl fault         1   \n267                                 net snmp urlordomain         0   \n8224                             hda drive readi command         0   \n23629    urlordomain item number name proc sy net econet         0   \n5888                            kernel log daemon termin         1   \n25273  authent failur lognam uid number euid number t...         1   \n12527                                    bdc proc hexcod         1   \n\n              Process   PID  User             IP  Len  \n3367              gpm  2076  root      127.0.0.1    7  \n82             kernel     0  root      127.0.0.1   33  \n23861          kernel     0  root      127.0.0.1  205  \n11837          kernel     0  root      127.0.0.1   39  \n267             snmpd  2287  root      127.0.0.1   23  \n8224           kernel     0  root      127.0.0.1   32  \n23629          kernel     0  root      127.0.0.1   62  \n5888           kernel     0  root      127.0.0.1   30  \n25273  sshd(pam_unix)  6064  root  80.34.110.175   95  \n12527          kernel     0  root      127.0.0.1   34  "
     },
     "execution_count": 18,
     "metadata": {},
     "output_type": "execute_result"
    }
   ],
   "source": [
    "clean_df = df.drop_duplicates(subset='Message', keep = 'first')\r\n",
    "clean_df.sample(10)"
   ]
  },
  {
   "cell_type": "markdown",
   "metadata": {},
   "source": [
    "# Data Preprocessing"
   ]
  },
  {
   "cell_type": "code",
   "execution_count": 19,
   "metadata": {},
   "outputs": [],
   "source": [
    "from sklearn.model_selection import train_test_split\r\n",
    "\r\n",
    "X = clean_df.drop(columns='Severity', axis=1).iloc[:, 2:].copy()\r\n",
    "y = clean_df['Severity'].astype(np.int64).copy()\r\n",
    "\r\n",
    "X_train, X_test, y_train, y_test = train_test_split(X, y, test_size=0.3, random_state=24)\r\n",
    "X_train = X_train.copy()\r\n",
    "X_test = X_test.copy()"
   ]
  },
  {
   "cell_type": "markdown",
   "metadata": {},
   "source": [
    "## Encoding Categorical data"
   ]
  },
  {
   "cell_type": "code",
   "execution_count": 20,
   "metadata": {},
   "outputs": [
    {
     "data": {
      "text/html": "<div>\n<style scoped>\n    .dataframe tbody tr th:only-of-type {\n        vertical-align: middle;\n    }\n\n    .dataframe tbody tr th {\n        vertical-align: top;\n    }\n\n    .dataframe thead th {\n        text-align: right;\n    }\n</style>\n<table border=\"1\" class=\"dataframe\">\n  <thead>\n    <tr style=\"text-align: right;\">\n      <th></th>\n      <th>Message</th>\n      <th>PID</th>\n      <th>Len</th>\n      <th>Hostname_combo</th>\n      <th>Hostname_ns1</th>\n      <th>Process_ -- root</th>\n      <th>Process_/sbin/mingetty</th>\n      <th>Process_FreeWnn</th>\n      <th>Process_PAM-rootok</th>\n      <th>Process_anacron</th>\n      <th>...</th>\n      <th>IP_81.196.56.67</th>\n      <th>IP_81.240.142.171</th>\n      <th>IP_82.121.128.139</th>\n      <th>IP_82.53.83.190</th>\n      <th>IP_83.114.226.68</th>\n      <th>IP_84.139.180.196</th>\n      <th>IP_84.154.98.89</th>\n      <th>IP_84.232.2.50</th>\n      <th>IP_84.5.218.32</th>\n      <th>IP_84.57.172.16</th>\n    </tr>\n  </thead>\n  <tbody>\n    <tr>\n      <th>7335</th>\n      <td>authent fail ipaddress number number number nu...</td>\n      <td>22519</td>\n      <td>107</td>\n      <td>1</td>\n      <td>0</td>\n      <td>0</td>\n      <td>0</td>\n      <td>0</td>\n      <td>0</td>\n      <td>0</td>\n      <td>...</td>\n      <td>0</td>\n      <td>0</td>\n      <td>0</td>\n      <td>0</td>\n      <td>0</td>\n      <td>0</td>\n      <td>0</td>\n      <td>0</td>\n      <td>0</td>\n      <td>0</td>\n    </tr>\n    <tr>\n      <th>23891</th>\n      <td>urlordomain syscal number exit number number f...</td>\n      <td>0</td>\n      <td>173</td>\n      <td>1</td>\n      <td>0</td>\n      <td>0</td>\n      <td>0</td>\n      <td>0</td>\n      <td>0</td>\n      <td>0</td>\n      <td>...</td>\n      <td>0</td>\n      <td>0</td>\n      <td>0</td>\n      <td>0</td>\n      <td>0</td>\n      <td>0</td>\n      <td>0</td>\n      <td>0</td>\n      <td>0</td>\n      <td>0</td>\n    </tr>\n    <tr>\n      <th>185</th>\n      <td>microcod cpu alreadi revis hexcod current hexcod</td>\n      <td>0</td>\n      <td>53</td>\n      <td>1</td>\n      <td>0</td>\n      <td>0</td>\n      <td>0</td>\n      <td>0</td>\n      <td>0</td>\n      <td>0</td>\n      <td>...</td>\n      <td>0</td>\n      <td>0</td>\n      <td>0</td>\n      <td>0</td>\n      <td>0</td>\n      <td>0</td>\n      <td>0</td>\n      <td>0</td>\n      <td>0</td>\n      <td>0</td>\n    </tr>\n    <tr>\n      <th>4793</th>\n      <td>connect ipaddress urlordomain wed sep number n...</td>\n      <td>4289</td>\n      <td>87</td>\n      <td>1</td>\n      <td>0</td>\n      <td>0</td>\n      <td>0</td>\n      <td>0</td>\n      <td>0</td>\n      <td>0</td>\n      <td>...</td>\n      <td>0</td>\n      <td>0</td>\n      <td>0</td>\n      <td>0</td>\n      <td>0</td>\n      <td>0</td>\n      <td>0</td>\n      <td>0</td>\n      <td>0</td>\n      <td>0</td>\n    </tr>\n    <tr>\n      <th>12760</th>\n      <td>fput</td>\n      <td>0</td>\n      <td>30</td>\n      <td>1</td>\n      <td>0</td>\n      <td>0</td>\n      <td>0</td>\n      <td>0</td>\n      <td>0</td>\n      <td>0</td>\n      <td>...</td>\n      <td>0</td>\n      <td>0</td>\n      <td>0</td>\n      <td>0</td>\n      <td>0</td>\n      <td>0</td>\n      <td>0</td>\n      <td>0</td>\n      <td>0</td>\n      <td>0</td>\n    </tr>\n  </tbody>\n</table>\n<p>5 rows × 106 columns</p>\n</div>",
      "text/plain": "                                                 Message    PID  Len  \\\n7335   authent fail ipaddress number number number nu...  22519  107   \n23891  urlordomain syscal number exit number number f...      0  173   \n185     microcod cpu alreadi revis hexcod current hexcod      0   53   \n4793   connect ipaddress urlordomain wed sep number n...   4289   87   \n12760                                               fput      0   30   \n\n       Hostname_combo   Hostname_ns1  Process_ -- root  \\\n7335                 1             0                 0   \n23891                1             0                 0   \n185                  1             0                 0   \n4793                 1             0                 0   \n12760                1             0                 0   \n\n       Process_/sbin/mingetty  Process_FreeWnn  Process_PAM-rootok  \\\n7335                        0                0                   0   \n23891                       0                0                   0   \n185                         0                0                   0   \n4793                        0                0                   0   \n12760                       0                0                   0   \n\n       Process_anacron  ...  IP_81.196.56.67  IP_81.240.142.171  \\\n7335                 0  ...                0                  0   \n23891                0  ...                0                  0   \n185                  0  ...                0                  0   \n4793                 0  ...                0                  0   \n12760                0  ...                0                  0   \n\n       IP_82.121.128.139  IP_82.53.83.190  IP_83.114.226.68  \\\n7335                   0                0                 0   \n23891                  0                0                 0   \n185                    0                0                 0   \n4793                   0                0                 0   \n12760                  0                0                 0   \n\n       IP_84.139.180.196  IP_84.154.98.89  IP_84.232.2.50  IP_84.5.218.32  \\\n7335                   0                0               0               0   \n23891                  0                0               0               0   \n185                    0                0               0               0   \n4793                   0                0               0               0   \n12760                  0                0               0               0   \n\n       IP_84.57.172.16  \n7335                 0  \n23891                0  \n185                  0  \n4793                 0  \n12760                0  \n\n[5 rows x 106 columns]"
     },
     "execution_count": 20,
     "metadata": {},
     "output_type": "execute_result"
    }
   ],
   "source": [
    "X_train_encoded = pd.get_dummies(X_train, columns=['Hostname','Process','User','IP'])\r\n",
    "X_train_encoded.head()"
   ]
  },
  {
   "cell_type": "markdown",
   "metadata": {},
   "source": [
    "## Using Count Vector"
   ]
  },
  {
   "cell_type": "code",
   "execution_count": 21,
   "metadata": {},
   "outputs": [],
   "source": [
    "from sklearn.feature_extraction.text import CountVectorizer\r\n",
    "vectorizer = CountVectorizer()\r\n",
    "X_train_vec = vectorizer.fit_transform(X_train['Message'])\r\n",
    "X_test_vec = vectorizer.transform(X_test['Message'])"
   ]
  },
  {
   "cell_type": "markdown",
   "metadata": {},
   "source": [
    "#### SVM"
   ]
  },
  {
   "cell_type": "code",
   "execution_count": 22,
   "metadata": {},
   "outputs": [
    {
     "name": "stdout",
     "output_type": "stream",
     "text": [
      "SVM Accuracy Score ->  95.75289575289575\n"
     ]
    }
   ],
   "source": [
    "from sklearn import svm\r\n",
    "svm_cv = svm.SVC(kernel='linear', probability=True)\r\n",
    "svm_cv.fit(X_train_vec, y_train)\r\n",
    "predictions_svm_cv = svm_cv.predict(X_test_vec)\r\n",
    "\r\n",
    "from sklearn.metrics import accuracy_score\r\n",
    "print(\"SVM Accuracy Score -> \",accuracy_score(predictions_svm_cv, y_test)*100)"
   ]
  },
  {
   "cell_type": "markdown",
   "metadata": {},
   "source": [
    "#### Random Forest"
   ]
  },
  {
   "cell_type": "code",
   "execution_count": 23,
   "metadata": {},
   "outputs": [
    {
     "name": "stdout",
     "output_type": "stream",
     "text": [
      "Random Forest Accuracy Score ->  96.13899613899613\n"
     ]
    }
   ],
   "source": [
    "from sklearn.ensemble import RandomForestClassifier\r\n",
    "\r\n",
    "rf = RandomForestClassifier(random_state=42)\r\n",
    "rf.fit(X_train_vec,y_train)\r\n",
    "print(\"Random Forest Accuracy Score -> \", rf.score(X_test_vec, y_test)*100)"
   ]
  },
  {
   "cell_type": "markdown",
   "metadata": {},
   "source": [
    "#### Naive Bayes"
   ]
  },
  {
   "cell_type": "code",
   "execution_count": 24,
   "metadata": {},
   "outputs": [
    {
     "name": "stdout",
     "output_type": "stream",
     "text": [
      "Naive Bayes Accuracy Score ->  93.82239382239382\n"
     ]
    }
   ],
   "source": [
    "from sklearn.naive_bayes import MultinomialNB\r\n",
    "nb_cv = MultinomialNB().fit(X_train_vec, y_train)\r\n",
    "\r\n",
    "# predict the labels on validation dataset\r\n",
    "predictions_NB_cv = nb_cv.predict(X_test_vec)\r\n",
    "# Use accuracy_score function to get the accuracy\r\n",
    "from sklearn.metrics import accuracy_score\r\n",
    "print(\"Naive Bayes Accuracy Score -> \",accuracy_score(predictions_NB_cv, y_test)*100)"
   ]
  },
  {
   "cell_type": "markdown",
   "metadata": {},
   "source": [
    "## Using TF-IDF vector"
   ]
  },
  {
   "cell_type": "code",
   "execution_count": 25,
   "metadata": {},
   "outputs": [],
   "source": [
    "from sklearn.feature_extraction.text import TfidfVectorizer\r\n",
    "Tfidf_vect = TfidfVectorizer()\r\n",
    "Tfidf_vect.fit(X_train['Message'])\r\n",
    "Train_X_Tfidf = Tfidf_vect.transform(X_train['Message'])\r\n",
    "Test_X_Tfidf = Tfidf_vect.transform(X_test['Message'])"
   ]
  },
  {
   "cell_type": "markdown",
   "metadata": {},
   "source": [
    "#### SVM"
   ]
  },
  {
   "cell_type": "code",
   "execution_count": 29,
   "metadata": {},
   "outputs": [
    {
     "name": "stdout",
     "output_type": "stream",
     "text": [
      "SVM Accuracy Score ->  95.36679536679536\n"
     ]
    }
   ],
   "source": [
    "from sklearn import svm\r\n",
    "svm_svc = svm.SVC(kernel='linear', probability=True)\r\n",
    "svm_svc.fit(Train_X_Tfidf, y_train)\r\n",
    "predictions_svm = svm_svc.predict(Test_X_Tfidf)\r\n",
    "\r\n",
    "from sklearn.metrics import accuracy_score\r\n",
    "print(\"SVM Accuracy Score -> \",accuracy_score(predictions_svm, y_test)*100)"
   ]
  },
  {
   "cell_type": "markdown",
   "metadata": {},
   "source": [
    "#### Random Forest"
   ]
  },
  {
   "cell_type": "code",
   "execution_count": 30,
   "metadata": {},
   "outputs": [
    {
     "name": "stdout",
     "output_type": "stream",
     "text": [
      "Random Forest Accuracy Score ->  96.13899613899613\n"
     ]
    }
   ],
   "source": [
    "from sklearn.ensemble import RandomForestClassifier\r\n",
    "\r\n",
    "rf = RandomForestClassifier(random_state=42)\r\n",
    "rf.fit(Train_X_Tfidf, y_train)\r\n",
    "print(\"Random Forest Accuracy Score -> \", rf.score(Test_X_Tfidf, y_test)*100)"
   ]
  },
  {
   "cell_type": "markdown",
   "metadata": {},
   "source": [
    "#### Naive Bayes"
   ]
  },
  {
   "cell_type": "code",
   "execution_count": 28,
   "metadata": {},
   "outputs": [
    {
     "name": "stdout",
     "output_type": "stream",
     "text": [
      "Naive Bayes Accuracy Score ->  94.20849420849422\n"
     ]
    }
   ],
   "source": [
    "from sklearn.naive_bayes import MultinomialNB\r\n",
    "clf = MultinomialNB().fit(Train_X_Tfidf, y_train)\r\n",
    "\r\n",
    "# predict the labels on validation dataset\r\n",
    "predictions_NB = clf.predict(Test_X_Tfidf)\r\n",
    "# Use accuracy_score function to get the accuracy\r\n",
    "from sklearn.metrics import accuracy_score\r\n",
    "print(\"Naive Bayes Accuracy Score -> \",accuracy_score(predictions_NB, y_test)*100)"
   ]
  }
 ],
 "metadata": {
  "kernelspec": {
   "display_name": "Python 3.8.5 64-bit ('base': conda)",
   "name": "python385jvsc74a57bd040beb175d8c858d1ff08315a1afe95f7a8d85aa391c5cea88297e971ddbb14a1"
  },
  "language_info": {
   "codemirror_mode": {
    "name": "ipython",
    "version": 3
   },
   "file_extension": ".py",
   "mimetype": "text/x-python",
   "name": "python",
   "nbconvert_exporter": "python",
   "pygments_lexer": "ipython3",
   "version": "3.8.5"
  },
  "orig_nbformat": 2
 },
 "nbformat": 4,
 "nbformat_minor": 2
}