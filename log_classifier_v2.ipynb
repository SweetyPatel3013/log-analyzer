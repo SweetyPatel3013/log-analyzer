{
 "metadata": {
  "language_info": {
   "codemirror_mode": {
    "name": "ipython",
    "version": 3
   },
   "file_extension": ".py",
   "mimetype": "text/x-python",
   "name": "python",
   "nbconvert_exporter": "python",
   "pygments_lexer": "ipython3",
   "version": "3.8.5-final"
  },
  "orig_nbformat": 2,
  "kernelspec": {
   "name": "python3",
   "display_name": "Python 3",
   "language": "python"
  }
 },
 "nbformat": 4,
 "nbformat_minor": 2,
 "cells": [
  {
   "cell_type": "code",
   "execution_count": 1,
   "metadata": {},
   "outputs": [],
   "source": [
    "import numpy as np\n",
    "import pandas as pd\n",
    "\n"
   ]
  },
  {
   "cell_type": "code",
   "execution_count": 2,
   "metadata": {},
   "outputs": [
    {
     "output_type": "execute_result",
     "data": {
      "text/plain": [
       "         Date      Time Hostname  \\\n",
       "0  2019-06-09  06:06:20   combo    \n",
       "1  2019-06-09  06:06:20   combo    \n",
       "2  2019-06-09  06:06:20   combo    \n",
       "3  2019-06-09  06:06:20   combo    \n",
       "4  2019-06-09  06:06:20   combo    \n",
       "\n",
       "                                             Message  Severity        Process  \\\n",
       "0                                           restart.         0  syslogd 1.4.1   \n",
       "1                          syslogd startup succeeded         0         syslog   \n",
       "2                            klogd startup succeeded         0         syslog   \n",
       "3      klogd 1.4.1, log source = /proc/kmsg started.         0         kernel   \n",
       "4  Linux version 2.6.5-1.358 (bhcompile@bugs.buil...         0         kernel   \n",
       "\n",
       "   PID  User         IP  Len  \n",
       "0  NaN  root  127.0.0.1    8  \n",
       "1  NaN  root  127.0.0.1   25  \n",
       "2  NaN  root  127.0.0.1   23  \n",
       "3  NaN  root  127.0.0.1   45  \n",
       "4  NaN  root  127.0.0.1  143  "
      ],
      "text/html": "<div>\n<style scoped>\n    .dataframe tbody tr th:only-of-type {\n        vertical-align: middle;\n    }\n\n    .dataframe tbody tr th {\n        vertical-align: top;\n    }\n\n    .dataframe thead th {\n        text-align: right;\n    }\n</style>\n<table border=\"1\" class=\"dataframe\">\n  <thead>\n    <tr style=\"text-align: right;\">\n      <th></th>\n      <th>Date</th>\n      <th>Time</th>\n      <th>Hostname</th>\n      <th>Message</th>\n      <th>Severity</th>\n      <th>Process</th>\n      <th>PID</th>\n      <th>User</th>\n      <th>IP</th>\n      <th>Len</th>\n    </tr>\n  </thead>\n  <tbody>\n    <tr>\n      <th>0</th>\n      <td>2019-06-09</td>\n      <td>06:06:20</td>\n      <td>combo</td>\n      <td>restart.</td>\n      <td>0</td>\n      <td>syslogd 1.4.1</td>\n      <td>NaN</td>\n      <td>root</td>\n      <td>127.0.0.1</td>\n      <td>8</td>\n    </tr>\n    <tr>\n      <th>1</th>\n      <td>2019-06-09</td>\n      <td>06:06:20</td>\n      <td>combo</td>\n      <td>syslogd startup succeeded</td>\n      <td>0</td>\n      <td>syslog</td>\n      <td>NaN</td>\n      <td>root</td>\n      <td>127.0.0.1</td>\n      <td>25</td>\n    </tr>\n    <tr>\n      <th>2</th>\n      <td>2019-06-09</td>\n      <td>06:06:20</td>\n      <td>combo</td>\n      <td>klogd startup succeeded</td>\n      <td>0</td>\n      <td>syslog</td>\n      <td>NaN</td>\n      <td>root</td>\n      <td>127.0.0.1</td>\n      <td>23</td>\n    </tr>\n    <tr>\n      <th>3</th>\n      <td>2019-06-09</td>\n      <td>06:06:20</td>\n      <td>combo</td>\n      <td>klogd 1.4.1, log source = /proc/kmsg started.</td>\n      <td>0</td>\n      <td>kernel</td>\n      <td>NaN</td>\n      <td>root</td>\n      <td>127.0.0.1</td>\n      <td>45</td>\n    </tr>\n    <tr>\n      <th>4</th>\n      <td>2019-06-09</td>\n      <td>06:06:20</td>\n      <td>combo</td>\n      <td>Linux version 2.6.5-1.358 (bhcompile@bugs.buil...</td>\n      <td>0</td>\n      <td>kernel</td>\n      <td>NaN</td>\n      <td>root</td>\n      <td>127.0.0.1</td>\n      <td>143</td>\n    </tr>\n  </tbody>\n</table>\n</div>"
     },
     "metadata": {},
     "execution_count": 2
    }
   ],
   "source": [
    "df = pd.read_csv(r'./data/Linux_v2_2.csv')\n",
    "df.head()"
   ]
  },
  {
   "cell_type": "code",
   "execution_count": 3,
   "metadata": {},
   "outputs": [
    {
     "output_type": "stream",
     "name": "stdout",
     "text": [
      "<class 'pandas.core.frame.DataFrame'>\nRangeIndex: 25706 entries, 0 to 25705\nData columns (total 10 columns):\n #   Column    Non-Null Count  Dtype \n---  ------    --------------  ----- \n 0   Date      25706 non-null  object\n 1   Time      25706 non-null  object\n 2   Hostname  25706 non-null  object\n 3   Message   25613 non-null  object\n 4   Severity  25706 non-null  int64 \n 5   Process   25688 non-null  object\n 6   PID       11176 non-null  object\n 7   User      25706 non-null  object\n 8   IP        25706 non-null  object\n 9   Len       25706 non-null  int64 \ndtypes: int64(2), object(8)\nmemory usage: 2.0+ MB\n"
     ]
    }
   ],
   "source": [
    "df.info()"
   ]
  },
  {
   "cell_type": "code",
   "execution_count": 4,
   "metadata": {},
   "outputs": [
    {
     "output_type": "execute_result",
     "data": {
      "text/plain": [
       "(25706, 10)"
      ]
     },
     "metadata": {},
     "execution_count": 4
    }
   ],
   "source": [
    "df.shape"
   ]
  },
  {
   "cell_type": "code",
   "execution_count": 5,
   "metadata": {},
   "outputs": [
    {
     "output_type": "execute_result",
     "data": {
      "text/plain": [
       "Date            0\n",
       "Time            0\n",
       "Hostname        0\n",
       "Message        93\n",
       "Severity        0\n",
       "Process        18\n",
       "PID         14530\n",
       "User            0\n",
       "IP              0\n",
       "Len             0\n",
       "dtype: int64"
      ]
     },
     "metadata": {},
     "execution_count": 5
    }
   ],
   "source": [
    "df.isnull().sum()"
   ]
  },
  {
   "cell_type": "code",
   "execution_count": 6,
   "metadata": {},
   "outputs": [],
   "source": [
    "df.dropna(subset=['Message'], inplace=True)\n",
    "df.dropna(subset=['Process'], inplace=True)\n",
    "df['PID'].fillna('0', inplace=True)"
   ]
  },
  {
   "cell_type": "code",
   "execution_count": 7,
   "metadata": {},
   "outputs": [
    {
     "output_type": "execute_result",
     "data": {
      "text/plain": [
       "Date        0\n",
       "Time        0\n",
       "Hostname    0\n",
       "Message     0\n",
       "Severity    0\n",
       "Process     0\n",
       "PID         0\n",
       "User        0\n",
       "IP          0\n",
       "Len         0\n",
       "dtype: int64"
      ]
     },
     "metadata": {},
     "execution_count": 7
    }
   ],
   "source": [
    "df.isnull().sum()"
   ]
  },
  {
   "cell_type": "code",
   "execution_count": 8,
   "metadata": {},
   "outputs": [],
   "source": [
    "import matplotlib.pyplot as plt\n",
    "plt.rcParams[\"figure.figsize\"] = (20,10)"
   ]
  },
  {
   "cell_type": "code",
   "execution_count": 9,
   "metadata": {},
   "outputs": [],
   "source": [
    "daily_log_count = {}\n",
    "df_dtgrp = df.groupby('Date')['Severity']\n",
    "for date, grp in df_dtgrp:\n",
    "    daily_log_count[date] = dict(grp.value_counts())"
   ]
  },
  {
   "cell_type": "code",
   "execution_count": 10,
   "metadata": {},
   "outputs": [
    {
     "output_type": "execute_result",
     "data": {
      "text/plain": [
       "<AxesSubplot:>"
      ]
     },
     "metadata": {},
     "execution_count": 10
    },
    {
     "output_type": "display_data",
     "data": {
      "text/plain": "<Figure size 1440x720 with 1 Axes>",
      "image/svg+xml": "<?xml version=\"1.0\" encoding=\"utf-8\" standalone=\"no\"?>\r\n<!DOCTYPE svg PUBLIC \"-//W3C//DTD SVG 1.1//EN\"\r\n  \"http://www.w3.org/Graphics/SVG/1.1/DTD/svg11.dtd\">\r\n<!-- Created with matplotlib (https://matplotlib.org/) -->\r\n<svg height=\"623.115625pt\" version=\"1.1\" viewBox=\"0 0 1156.4875 623.115625\" width=\"1156.4875pt\" xmlns=\"http://www.w3.org/2000/svg\" xmlns:xlink=\"http://www.w3.org/1999/xlink\">\r\n <metadata>\r\n  <rdf:RDF xmlns:cc=\"http://creativecommons.org/ns#\" xmlns:dc=\"http://purl.org/dc/elements/1.1/\" xmlns:rdf=\"http://www.w3.org/1999/02/22-rdf-syntax-ns#\">\r\n   <cc:Work>\r\n    <dc:type rdf:resource=\"http://purl.org/dc/dcmitype/StillImage\"/>\r\n    <dc:date>2021-03-06T08:13:34.536563</dc:date>\r\n    <dc:format>image/svg+xml</dc:format>\r\n    <dc:creator>\r\n     <cc:Agent>\r\n      <dc:title>Matplotlib v3.3.2, https://matplotlib.org/</dc:title>\r\n     </cc:Agent>\r\n    </dc:creator>\r\n   </cc:Work>\r\n  </rdf:RDF>\r\n </metadata>\r\n <defs>\r\n  <style type=\"text/css\">*{stroke-linecap:butt;stroke-linejoin:round;}</style>\r\n </defs>\r\n <g id=\"figure_1\">\r\n  <g id=\"patch_1\">\r\n   <path d=\"M 0 623.115625 \r\nL 1156.4875 623.115625 \r\nL 1156.4875 0 \r\nL 0 0 \r\nz\r\n\" style=\"fill:none;\"/>\r\n  </g>\r\n  <g id=\"axes_1\">\r\n   <g id=\"patch_2\">\r\n    <path d=\"M 33.2875 550.8 \r\nL 1149.2875 550.8 \r\nL 1149.2875 7.2 \r\nL 33.2875 7.2 \r\nz\r\n\" style=\"fill:#ffffff;\"/>\r\n   </g>\r\n   <g id=\"patch_3\">\r\n    <path clip-path=\"url(#p497b102467)\" d=\"M 42.2875 550.8 \r\nL 51.2875 550.8 \r\nL 51.2875 544.945396 \r\nL 42.2875 544.945396 \r\nz\r\n\" style=\"fill:#1f77b4;\"/>\r\n   </g>\r\n   <g id=\"patch_4\">\r\n    <path clip-path=\"url(#p497b102467)\" d=\"M 78.2875 550.8 \r\nL 87.2875 550.8 \r\nL 87.2875 547.454512 \r\nL 78.2875 547.454512 \r\nz\r\n\" style=\"fill:#1f77b4;\"/>\r\n   </g>\r\n   <g id=\"patch_5\">\r\n    <path clip-path=\"url(#p497b102467)\" d=\"M 114.2875 550.8 \r\nL 123.2875 550.8 \r\nL 123.2875 547.454512 \r\nL 114.2875 547.454512 \r\nz\r\n\" style=\"fill:#1f77b4;\"/>\r\n   </g>\r\n   <g id=\"patch_6\">\r\n    <path clip-path=\"url(#p497b102467)\" d=\"M 150.2875 550.8 \r\nL 159.2875 550.8 \r\nL 159.2875 547.454512 \r\nL 150.2875 547.454512 \r\nz\r\n\" style=\"fill:#1f77b4;\"/>\r\n   </g>\r\n   <g id=\"patch_7\">\r\n    <path clip-path=\"url(#p497b102467)\" d=\"M 186.2875 550.8 \r\nL 195.2875 550.8 \r\nL 195.2875 547.454512 \r\nL 186.2875 547.454512 \r\nz\r\n\" style=\"fill:#1f77b4;\"/>\r\n   </g>\r\n   <g id=\"patch_8\">\r\n    <path clip-path=\"url(#p497b102467)\" d=\"M 222.2875 550.8 \r\nL 231.2875 550.8 \r\nL 231.2875 528.217955 \r\nL 222.2875 528.217955 \r\nz\r\n\" style=\"fill:#1f77b4;\"/>\r\n   </g>\r\n   <g id=\"patch_9\">\r\n    <path clip-path=\"url(#p497b102467)\" d=\"M 258.2875 550.8 \r\nL 267.2875 550.8 \r\nL 267.2875 546.61814 \r\nL 258.2875 546.61814 \r\nz\r\n\" style=\"fill:#1f77b4;\"/>\r\n   </g>\r\n   <g id=\"patch_10\">\r\n    <path clip-path=\"url(#p497b102467)\" d=\"M 294.2875 550.8 \r\nL 303.2875 550.8 \r\nL 303.2875 525.708839 \r\nL 294.2875 525.708839 \r\nz\r\n\" style=\"fill:#1f77b4;\"/>\r\n   </g>\r\n   <g id=\"patch_11\">\r\n    <path clip-path=\"url(#p497b102467)\" d=\"M 330.2875 550.8 \r\nL 339.2875 550.8 \r\nL 339.2875 508.981399 \r\nL 330.2875 508.981399 \r\nz\r\n\" style=\"fill:#1f77b4;\"/>\r\n   </g>\r\n   <g id=\"patch_12\">\r\n    <path clip-path=\"url(#p497b102467)\" d=\"M 366.2875 550.8 \r\nL 375.2875 550.8 \r\nL 375.2875 525.708839 \r\nL 366.2875 525.708839 \r\nz\r\n\" style=\"fill:#1f77b4;\"/>\r\n   </g>\r\n   <g id=\"patch_13\">\r\n    <path clip-path=\"url(#p497b102467)\" d=\"M 402.2875 550.8 \r\nL 411.2875 550.8 \r\nL 411.2875 504.799538 \r\nL 402.2875 504.799538 \r\nz\r\n\" style=\"fill:#1f77b4;\"/>\r\n   </g>\r\n   <g id=\"patch_14\">\r\n    <path clip-path=\"url(#p497b102467)\" d=\"M 438.2875 550.8 \r\nL 447.2875 550.8 \r\nL 447.2875 511.490515 \r\nL 438.2875 511.490515 \r\nz\r\n\" style=\"fill:#1f77b4;\"/>\r\n   </g>\r\n   <g id=\"patch_15\">\r\n    <path clip-path=\"url(#p497b102467)\" d=\"M 474.2875 550.8 \r\nL 483.2875 550.8 \r\nL 483.2875 496.435818 \r\nL 474.2875 496.435818 \r\nz\r\n\" style=\"fill:#1f77b4;\"/>\r\n   </g>\r\n   <g id=\"patch_16\">\r\n    <path clip-path=\"url(#p497b102467)\" d=\"M 510.2875 550.8 \r\nL 519.2875 550.8 \r\nL 519.2875 509.817771 \r\nL 510.2875 509.817771 \r\nz\r\n\" style=\"fill:#1f77b4;\"/>\r\n   </g>\r\n   <g id=\"patch_17\">\r\n    <path clip-path=\"url(#p497b102467)\" d=\"M 546.2875 550.8 \r\nL 555.2875 550.8 \r\nL 555.2875 537.418048 \r\nL 546.2875 537.418048 \r\nz\r\n\" style=\"fill:#1f77b4;\"/>\r\n   </g>\r\n   <g id=\"patch_18\">\r\n    <path clip-path=\"url(#p497b102467)\" d=\"M 582.2875 550.8 \r\nL 591.2875 550.8 \r\nL 591.2875 499.781306 \r\nL 582.2875 499.781306 \r\nz\r\n\" style=\"fill:#1f77b4;\"/>\r\n   </g>\r\n   <g id=\"patch_19\">\r\n    <path clip-path=\"url(#p497b102467)\" d=\"M 618.2875 550.8 \r\nL 627.2875 550.8 \r\nL 627.2875 534.072559 \r\nL 618.2875 534.072559 \r\nz\r\n\" style=\"fill:#1f77b4;\"/>\r\n   </g>\r\n   <g id=\"patch_20\">\r\n    <path clip-path=\"url(#p497b102467)\" d=\"M 654.2875 550.8 \r\nL 663.2875 550.8 \r\nL 663.2875 509.817771 \r\nL 654.2875 509.817771 \r\nz\r\n\" style=\"fill:#1f77b4;\"/>\r\n   </g>\r\n   <g id=\"patch_21\">\r\n    <path clip-path=\"url(#p497b102467)\" d=\"M 690.2875 550.8 \r\nL 699.2875 550.8 \r\nL 699.2875 509.817771 \r\nL 690.2875 509.817771 \r\nz\r\n\" style=\"fill:#1f77b4;\"/>\r\n   </g>\r\n   <g id=\"patch_22\">\r\n    <path clip-path=\"url(#p497b102467)\" d=\"M 726.2875 550.8 \r\nL 735.2875 550.8 \r\nL 735.2875 533.236187 \r\nL 726.2875 533.236187 \r\nz\r\n\" style=\"fill:#1f77b4;\"/>\r\n   </g>\r\n   <g id=\"patch_23\">\r\n    <path clip-path=\"url(#p497b102467)\" d=\"M 762.2875 550.8 \r\nL 771.2875 550.8 \r\nL 771.2875 547.454512 \r\nL 762.2875 547.454512 \r\nz\r\n\" style=\"fill:#1f77b4;\"/>\r\n   </g>\r\n   <g id=\"patch_24\">\r\n    <path clip-path=\"url(#p497b102467)\" d=\"M 798.2875 550.8 \r\nL 807.2875 550.8 \r\nL 807.2875 530.727071 \r\nL 798.2875 530.727071 \r\nz\r\n\" style=\"fill:#1f77b4;\"/>\r\n   </g>\r\n   <g id=\"patch_25\">\r\n    <path clip-path=\"url(#p497b102467)\" d=\"M 834.2875 550.8 \r\nL 843.2875 550.8 \r\nL 843.2875 522.363351 \r\nL 834.2875 522.363351 \r\nz\r\n\" style=\"fill:#1f77b4;\"/>\r\n   </g>\r\n   <g id=\"patch_26\">\r\n    <path clip-path=\"url(#p497b102467)\" d=\"M 870.2875 550.8 \r\nL 879.2875 550.8 \r\nL 879.2875 541.599908 \r\nL 870.2875 541.599908 \r\nz\r\n\" style=\"fill:#1f77b4;\"/>\r\n   </g>\r\n   <g id=\"patch_27\">\r\n    <path clip-path=\"url(#p497b102467)\" d=\"M 906.2875 550.8 \r\nL 915.2875 550.8 \r\nL 915.2875 528.217955 \r\nL 906.2875 528.217955 \r\nz\r\n\" style=\"fill:#1f77b4;\"/>\r\n   </g>\r\n   <g id=\"patch_28\">\r\n    <path clip-path=\"url(#p497b102467)\" d=\"M 942.2875 550.8 \r\nL 951.2875 550.8 \r\nL 951.2875 33.085714 \r\nL 942.2875 33.085714 \r\nz\r\n\" style=\"fill:#1f77b4;\"/>\r\n   </g>\r\n   <g id=\"patch_29\">\r\n    <path clip-path=\"url(#p497b102467)\" d=\"M 978.2875 550.8 \r\nL 987.2875 550.8 \r\nL 987.2875 550.8 \r\nL 978.2875 550.8 \r\nz\r\n\" style=\"fill:#1f77b4;\"/>\r\n   </g>\r\n   <g id=\"patch_30\">\r\n    <path clip-path=\"url(#p497b102467)\" d=\"M 1014.2875 550.8 \r\nL 1023.2875 550.8 \r\nL 1023.2875 550.8 \r\nL 1014.2875 550.8 \r\nz\r\n\" style=\"fill:#1f77b4;\"/>\r\n   </g>\r\n   <g id=\"patch_31\">\r\n    <path clip-path=\"url(#p497b102467)\" d=\"M 1050.2875 550.8 \r\nL 1059.2875 550.8 \r\nL 1059.2875 549.963628 \r\nL 1050.2875 549.963628 \r\nz\r\n\" style=\"fill:#1f77b4;\"/>\r\n   </g>\r\n   <g id=\"patch_32\">\r\n    <path clip-path=\"url(#p497b102467)\" d=\"M 1086.2875 550.8 \r\nL 1095.2875 550.8 \r\nL 1095.2875 542.43628 \r\nL 1086.2875 542.43628 \r\nz\r\n\" style=\"fill:#1f77b4;\"/>\r\n   </g>\r\n   <g id=\"patch_33\">\r\n    <path clip-path=\"url(#p497b102467)\" d=\"M 1122.2875 550.8 \r\nL 1131.2875 550.8 \r\nL 1131.2875 519.017863 \r\nL 1122.2875 519.017863 \r\nz\r\n\" style=\"fill:#1f77b4;\"/>\r\n   </g>\r\n   <g id=\"patch_34\">\r\n    <path clip-path=\"url(#p497b102467)\" d=\"M 51.2875 550.8 \r\nL 60.2875 550.8 \r\nL 60.2875 549.963628 \r\nL 51.2875 549.963628 \r\nz\r\n\" style=\"fill:#ff7f0e;\"/>\r\n   </g>\r\n   <g id=\"patch_35\">\r\n    <path clip-path=\"url(#p497b102467)\" d=\"M 87.2875 550.8 \r\nL 96.2875 550.8 \r\nL 96.2875 549.963628 \r\nL 87.2875 549.963628 \r\nz\r\n\" style=\"fill:#ff7f0e;\"/>\r\n   </g>\r\n   <g id=\"patch_36\">\r\n    <path clip-path=\"url(#p497b102467)\" d=\"M 123.2875 550.8 \r\nL 132.2875 550.8 \r\nL 132.2875 549.963628 \r\nL 123.2875 549.963628 \r\nz\r\n\" style=\"fill:#ff7f0e;\"/>\r\n   </g>\r\n   <g id=\"patch_37\">\r\n    <path clip-path=\"url(#p497b102467)\" d=\"M 159.2875 550.8 \r\nL 168.2875 550.8 \r\nL 168.2875 549.963628 \r\nL 159.2875 549.963628 \r\nz\r\n\" style=\"fill:#ff7f0e;\"/>\r\n   </g>\r\n   <g id=\"patch_38\">\r\n    <path clip-path=\"url(#p497b102467)\" d=\"M 195.2875 550.8 \r\nL 204.2875 550.8 \r\nL 204.2875 549.963628 \r\nL 195.2875 549.963628 \r\nz\r\n\" style=\"fill:#ff7f0e;\"/>\r\n   </g>\r\n   <g id=\"patch_39\">\r\n    <path clip-path=\"url(#p497b102467)\" d=\"M 231.2875 550.8 \r\nL 240.2875 550.8 \r\nL 240.2875 549.963628 \r\nL 231.2875 549.963628 \r\nz\r\n\" style=\"fill:#ff7f0e;\"/>\r\n   </g>\r\n   <g id=\"patch_40\">\r\n    <path clip-path=\"url(#p497b102467)\" d=\"M 267.2875 550.8 \r\nL 276.2875 550.8 \r\nL 276.2875 541.599908 \r\nL 267.2875 541.599908 \r\nz\r\n\" style=\"fill:#ff7f0e;\"/>\r\n   </g>\r\n   <g id=\"patch_41\">\r\n    <path clip-path=\"url(#p497b102467)\" d=\"M 303.2875 550.8 \r\nL 312.2875 550.8 \r\nL 312.2875 549.127256 \r\nL 303.2875 549.127256 \r\nz\r\n\" style=\"fill:#ff7f0e;\"/>\r\n   </g>\r\n   <g id=\"patch_42\">\r\n    <path clip-path=\"url(#p497b102467)\" d=\"M 339.2875 550.8 \r\nL 348.2875 550.8 \r\nL 348.2875 546.61814 \r\nL 339.2875 546.61814 \r\nz\r\n\" style=\"fill:#ff7f0e;\"/>\r\n   </g>\r\n   <g id=\"patch_43\">\r\n    <path clip-path=\"url(#p497b102467)\" d=\"M 375.2875 550.8 \r\nL 384.2875 550.8 \r\nL 384.2875 528.217955 \r\nL 375.2875 528.217955 \r\nz\r\n\" style=\"fill:#ff7f0e;\"/>\r\n   </g>\r\n   <g id=\"patch_44\">\r\n    <path clip-path=\"url(#p497b102467)\" d=\"M 411.2875 550.8 \r\nL 420.2875 550.8 \r\nL 420.2875 534.908931 \r\nL 411.2875 534.908931 \r\nz\r\n\" style=\"fill:#ff7f0e;\"/>\r\n   </g>\r\n   <g id=\"patch_45\">\r\n    <path clip-path=\"url(#p497b102467)\" d=\"M 447.2875 550.8 \r\nL 456.2875 550.8 \r\nL 456.2875 495.599446 \r\nL 447.2875 495.599446 \r\nz\r\n\" style=\"fill:#ff7f0e;\"/>\r\n   </g>\r\n   <g id=\"patch_46\">\r\n    <path clip-path=\"url(#p497b102467)\" d=\"M 483.2875 550.8 \r\nL 492.2875 550.8 \r\nL 492.2875 518.181491 \r\nL 483.2875 518.181491 \r\nz\r\n\" style=\"fill:#ff7f0e;\"/>\r\n   </g>\r\n   <g id=\"patch_47\">\r\n    <path clip-path=\"url(#p497b102467)\" d=\"M 519.2875 550.8 \r\nL 528.2875 550.8 \r\nL 528.2875 495.599446 \r\nL 519.2875 495.599446 \r\nz\r\n\" style=\"fill:#ff7f0e;\"/>\r\n   </g>\r\n   <g id=\"patch_48\">\r\n    <path clip-path=\"url(#p497b102467)\" d=\"M 555.2875 550.8 \r\nL 564.2875 550.8 \r\nL 564.2875 516.508747 \r\nL 555.2875 516.508747 \r\nz\r\n\" style=\"fill:#ff7f0e;\"/>\r\n   </g>\r\n   <g id=\"patch_49\">\r\n    <path clip-path=\"url(#p497b102467)\" d=\"M 591.2875 550.8 \r\nL 600.2875 550.8 \r\nL 600.2875 492.253958 \r\nL 591.2875 492.253958 \r\nz\r\n\" style=\"fill:#ff7f0e;\"/>\r\n   </g>\r\n   <g id=\"patch_50\">\r\n    <path clip-path=\"url(#p497b102467)\" d=\"M 627.2875 550.8 \r\nL 636.2875 550.8 \r\nL 636.2875 522.363351 \r\nL 627.2875 522.363351 \r\nz\r\n\" style=\"fill:#ff7f0e;\"/>\r\n   </g>\r\n   <g id=\"patch_51\">\r\n    <path clip-path=\"url(#p497b102467)\" d=\"M 663.2875 550.8 \r\nL 672.2875 550.8 \r\nL 672.2875 519.017863 \r\nL 663.2875 519.017863 \r\nz\r\n\" style=\"fill:#ff7f0e;\"/>\r\n   </g>\r\n   <g id=\"patch_52\">\r\n    <path clip-path=\"url(#p497b102467)\" d=\"M 699.2875 550.8 \r\nL 708.2875 550.8 \r\nL 708.2875 506.472282 \r\nL 699.2875 506.472282 \r\nz\r\n\" style=\"fill:#ff7f0e;\"/>\r\n   </g>\r\n   <g id=\"patch_53\">\r\n    <path clip-path=\"url(#p497b102467)\" d=\"M 735.2875 550.8 \r\nL 744.2875 550.8 \r\nL 744.2875 510.654143 \r\nL 735.2875 510.654143 \r\nz\r\n\" style=\"fill:#ff7f0e;\"/>\r\n   </g>\r\n   <g id=\"patch_54\">\r\n    <path clip-path=\"url(#p497b102467)\" d=\"M 771.2875 550.8 \r\nL 780.2875 550.8 \r\nL 780.2875 533.236187 \r\nL 771.2875 533.236187 \r\nz\r\n\" style=\"fill:#ff7f0e;\"/>\r\n   </g>\r\n   <g id=\"patch_55\">\r\n    <path clip-path=\"url(#p497b102467)\" d=\"M 807.2875 550.8 \r\nL 816.2875 550.8 \r\nL 816.2875 527.381583 \r\nL 807.2875 527.381583 \r\nz\r\n\" style=\"fill:#ff7f0e;\"/>\r\n   </g>\r\n   <g id=\"patch_56\">\r\n    <path clip-path=\"url(#p497b102467)\" d=\"M 843.2875 550.8 \r\nL 852.2875 550.8 \r\nL 852.2875 427.853312 \r\nL 843.2875 427.853312 \r\nz\r\n\" style=\"fill:#ff7f0e;\"/>\r\n   </g>\r\n   <g id=\"patch_57\">\r\n    <path clip-path=\"url(#p497b102467)\" d=\"M 879.2875 550.8 \r\nL 888.2875 550.8 \r\nL 888.2875 517.345119 \r\nL 879.2875 517.345119 \r\nz\r\n\" style=\"fill:#ff7f0e;\"/>\r\n   </g>\r\n   <g id=\"patch_58\">\r\n    <path clip-path=\"url(#p497b102467)\" d=\"M 915.2875 550.8 \r\nL 924.2875 550.8 \r\nL 924.2875 549.963628 \r\nL 915.2875 549.963628 \r\nz\r\n\" style=\"fill:#ff7f0e;\"/>\r\n   </g>\r\n   <g id=\"patch_59\">\r\n    <path clip-path=\"url(#p497b102467)\" d=\"M 951.2875 550.8 \r\nL 960.2875 550.8 \r\nL 960.2875 418.653219 \r\nL 951.2875 418.653219 \r\nz\r\n\" style=\"fill:#ff7f0e;\"/>\r\n   </g>\r\n   <g id=\"patch_60\">\r\n    <path clip-path=\"url(#p497b102467)\" d=\"M 987.2875 550.8 \r\nL 996.2875 550.8 \r\nL 996.2875 532.399815 \r\nL 987.2875 532.399815 \r\nz\r\n\" style=\"fill:#ff7f0e;\"/>\r\n   </g>\r\n   <g id=\"patch_61\">\r\n    <path clip-path=\"url(#p497b102467)\" d=\"M 1023.2875 550.8 \r\nL 1032.2875 550.8 \r\nL 1032.2875 541.599908 \r\nL 1023.2875 541.599908 \r\nz\r\n\" style=\"fill:#ff7f0e;\"/>\r\n   </g>\r\n   <g id=\"patch_62\">\r\n    <path clip-path=\"url(#p497b102467)\" d=\"M 1059.2875 550.8 \r\nL 1068.2875 550.8 \r\nL 1068.2875 541.599908 \r\nL 1059.2875 541.599908 \r\nz\r\n\" style=\"fill:#ff7f0e;\"/>\r\n   </g>\r\n   <g id=\"patch_63\">\r\n    <path clip-path=\"url(#p497b102467)\" d=\"M 1095.2875 550.8 \r\nL 1104.2875 550.8 \r\nL 1104.2875 514.836003 \r\nL 1095.2875 514.836003 \r\nz\r\n\" style=\"fill:#ff7f0e;\"/>\r\n   </g>\r\n   <g id=\"patch_64\">\r\n    <path clip-path=\"url(#p497b102467)\" d=\"M 1131.2875 550.8 \r\nL 1140.2875 550.8 \r\nL 1140.2875 496.435818 \r\nL 1131.2875 496.435818 \r\nz\r\n\" style=\"fill:#ff7f0e;\"/>\r\n   </g>\r\n   <g id=\"matplotlib.axis_1\">\r\n    <g id=\"xtick_1\">\r\n     <g id=\"line2d_1\">\r\n      <defs>\r\n       <path d=\"M 0 0 \r\nL 0 3.5 \r\n\" id=\"m7342d6f291\" style=\"stroke:#000000;stroke-width:0.8;\"/>\r\n      </defs>\r\n      <g>\r\n       <use style=\"stroke:#000000;stroke-width:0.8;\" x=\"51.2875\" xlink:href=\"#m7342d6f291\" y=\"550.8\"/>\r\n      </g>\r\n     </g>\r\n     <g id=\"text_1\">\r\n      <!-- 2020-01-01 -->\r\n      <g transform=\"translate(54.046875 615.915625)rotate(-90)scale(0.1 -0.1)\">\r\n       <defs>\r\n        <path d=\"M 19.1875 8.296875 \r\nL 53.609375 8.296875 \r\nL 53.609375 0 \r\nL 7.328125 0 \r\nL 7.328125 8.296875 \r\nQ 12.9375 14.109375 22.625 23.890625 \r\nQ 32.328125 33.6875 34.8125 36.53125 \r\nQ 39.546875 41.84375 41.421875 45.53125 \r\nQ 43.3125 49.21875 43.3125 52.78125 \r\nQ 43.3125 58.59375 39.234375 62.25 \r\nQ 35.15625 65.921875 28.609375 65.921875 \r\nQ 23.96875 65.921875 18.8125 64.3125 \r\nQ 13.671875 62.703125 7.8125 59.421875 \r\nL 7.8125 69.390625 \r\nQ 13.765625 71.78125 18.9375 73 \r\nQ 24.125 74.21875 28.421875 74.21875 \r\nQ 39.75 74.21875 46.484375 68.546875 \r\nQ 53.21875 62.890625 53.21875 53.421875 \r\nQ 53.21875 48.921875 51.53125 44.890625 \r\nQ 49.859375 40.875 45.40625 35.40625 \r\nQ 44.1875 33.984375 37.640625 27.21875 \r\nQ 31.109375 20.453125 19.1875 8.296875 \r\nz\r\n\" id=\"DejaVuSans-50\"/>\r\n        <path d=\"M 31.78125 66.40625 \r\nQ 24.171875 66.40625 20.328125 58.90625 \r\nQ 16.5 51.421875 16.5 36.375 \r\nQ 16.5 21.390625 20.328125 13.890625 \r\nQ 24.171875 6.390625 31.78125 6.390625 \r\nQ 39.453125 6.390625 43.28125 13.890625 \r\nQ 47.125 21.390625 47.125 36.375 \r\nQ 47.125 51.421875 43.28125 58.90625 \r\nQ 39.453125 66.40625 31.78125 66.40625 \r\nz\r\nM 31.78125 74.21875 \r\nQ 44.046875 74.21875 50.515625 64.515625 \r\nQ 56.984375 54.828125 56.984375 36.375 \r\nQ 56.984375 17.96875 50.515625 8.265625 \r\nQ 44.046875 -1.421875 31.78125 -1.421875 \r\nQ 19.53125 -1.421875 13.0625 8.265625 \r\nQ 6.59375 17.96875 6.59375 36.375 \r\nQ 6.59375 54.828125 13.0625 64.515625 \r\nQ 19.53125 74.21875 31.78125 74.21875 \r\nz\r\n\" id=\"DejaVuSans-48\"/>\r\n        <path d=\"M 4.890625 31.390625 \r\nL 31.203125 31.390625 \r\nL 31.203125 23.390625 \r\nL 4.890625 23.390625 \r\nz\r\n\" id=\"DejaVuSans-45\"/>\r\n        <path d=\"M 12.40625 8.296875 \r\nL 28.515625 8.296875 \r\nL 28.515625 63.921875 \r\nL 10.984375 60.40625 \r\nL 10.984375 69.390625 \r\nL 28.421875 72.90625 \r\nL 38.28125 72.90625 \r\nL 38.28125 8.296875 \r\nL 54.390625 8.296875 \r\nL 54.390625 0 \r\nL 12.40625 0 \r\nz\r\n\" id=\"DejaVuSans-49\"/>\r\n       </defs>\r\n       <use xlink:href=\"#DejaVuSans-50\"/>\r\n       <use x=\"63.623047\" xlink:href=\"#DejaVuSans-48\"/>\r\n       <use x=\"127.246094\" xlink:href=\"#DejaVuSans-50\"/>\r\n       <use x=\"190.869141\" xlink:href=\"#DejaVuSans-48\"/>\r\n       <use x=\"254.492188\" xlink:href=\"#DejaVuSans-45\"/>\r\n       <use x=\"290.576172\" xlink:href=\"#DejaVuSans-48\"/>\r\n       <use x=\"354.199219\" xlink:href=\"#DejaVuSans-49\"/>\r\n       <use x=\"417.822266\" xlink:href=\"#DejaVuSans-45\"/>\r\n       <use x=\"453.90625\" xlink:href=\"#DejaVuSans-48\"/>\r\n       <use x=\"517.529297\" xlink:href=\"#DejaVuSans-49\"/>\r\n      </g>\r\n     </g>\r\n    </g>\r\n    <g id=\"xtick_2\">\r\n     <g id=\"line2d_2\">\r\n      <g>\r\n       <use style=\"stroke:#000000;stroke-width:0.8;\" x=\"87.2875\" xlink:href=\"#m7342d6f291\" y=\"550.8\"/>\r\n      </g>\r\n     </g>\r\n     <g id=\"text_2\">\r\n      <!-- 2020-01-02 -->\r\n      <g transform=\"translate(90.046875 615.915625)rotate(-90)scale(0.1 -0.1)\">\r\n       <use xlink:href=\"#DejaVuSans-50\"/>\r\n       <use x=\"63.623047\" xlink:href=\"#DejaVuSans-48\"/>\r\n       <use x=\"127.246094\" xlink:href=\"#DejaVuSans-50\"/>\r\n       <use x=\"190.869141\" xlink:href=\"#DejaVuSans-48\"/>\r\n       <use x=\"254.492188\" xlink:href=\"#DejaVuSans-45\"/>\r\n       <use x=\"290.576172\" xlink:href=\"#DejaVuSans-48\"/>\r\n       <use x=\"354.199219\" xlink:href=\"#DejaVuSans-49\"/>\r\n       <use x=\"417.822266\" xlink:href=\"#DejaVuSans-45\"/>\r\n       <use x=\"453.90625\" xlink:href=\"#DejaVuSans-48\"/>\r\n       <use x=\"517.529297\" xlink:href=\"#DejaVuSans-50\"/>\r\n      </g>\r\n     </g>\r\n    </g>\r\n    <g id=\"xtick_3\">\r\n     <g id=\"line2d_3\">\r\n      <g>\r\n       <use style=\"stroke:#000000;stroke-width:0.8;\" x=\"123.2875\" xlink:href=\"#m7342d6f291\" y=\"550.8\"/>\r\n      </g>\r\n     </g>\r\n     <g id=\"text_3\">\r\n      <!-- 2020-01-03 -->\r\n      <g transform=\"translate(126.046875 615.915625)rotate(-90)scale(0.1 -0.1)\">\r\n       <defs>\r\n        <path d=\"M 40.578125 39.3125 \r\nQ 47.65625 37.796875 51.625 33 \r\nQ 55.609375 28.21875 55.609375 21.1875 \r\nQ 55.609375 10.40625 48.1875 4.484375 \r\nQ 40.765625 -1.421875 27.09375 -1.421875 \r\nQ 22.515625 -1.421875 17.65625 -0.515625 \r\nQ 12.796875 0.390625 7.625 2.203125 \r\nL 7.625 11.71875 \r\nQ 11.71875 9.328125 16.59375 8.109375 \r\nQ 21.484375 6.890625 26.8125 6.890625 \r\nQ 36.078125 6.890625 40.9375 10.546875 \r\nQ 45.796875 14.203125 45.796875 21.1875 \r\nQ 45.796875 27.640625 41.28125 31.265625 \r\nQ 36.765625 34.90625 28.71875 34.90625 \r\nL 20.21875 34.90625 \r\nL 20.21875 43.015625 \r\nL 29.109375 43.015625 \r\nQ 36.375 43.015625 40.234375 45.921875 \r\nQ 44.09375 48.828125 44.09375 54.296875 \r\nQ 44.09375 59.90625 40.109375 62.90625 \r\nQ 36.140625 65.921875 28.71875 65.921875 \r\nQ 24.65625 65.921875 20.015625 65.03125 \r\nQ 15.375 64.15625 9.8125 62.3125 \r\nL 9.8125 71.09375 \r\nQ 15.4375 72.65625 20.34375 73.4375 \r\nQ 25.25 74.21875 29.59375 74.21875 \r\nQ 40.828125 74.21875 47.359375 69.109375 \r\nQ 53.90625 64.015625 53.90625 55.328125 \r\nQ 53.90625 49.265625 50.4375 45.09375 \r\nQ 46.96875 40.921875 40.578125 39.3125 \r\nz\r\n\" id=\"DejaVuSans-51\"/>\r\n       </defs>\r\n       <use xlink:href=\"#DejaVuSans-50\"/>\r\n       <use x=\"63.623047\" xlink:href=\"#DejaVuSans-48\"/>\r\n       <use x=\"127.246094\" xlink:href=\"#DejaVuSans-50\"/>\r\n       <use x=\"190.869141\" xlink:href=\"#DejaVuSans-48\"/>\r\n       <use x=\"254.492188\" xlink:href=\"#DejaVuSans-45\"/>\r\n       <use x=\"290.576172\" xlink:href=\"#DejaVuSans-48\"/>\r\n       <use x=\"354.199219\" xlink:href=\"#DejaVuSans-49\"/>\r\n       <use x=\"417.822266\" xlink:href=\"#DejaVuSans-45\"/>\r\n       <use x=\"453.90625\" xlink:href=\"#DejaVuSans-48\"/>\r\n       <use x=\"517.529297\" xlink:href=\"#DejaVuSans-51\"/>\r\n      </g>\r\n     </g>\r\n    </g>\r\n    <g id=\"xtick_4\">\r\n     <g id=\"line2d_4\">\r\n      <g>\r\n       <use style=\"stroke:#000000;stroke-width:0.8;\" x=\"159.2875\" xlink:href=\"#m7342d6f291\" y=\"550.8\"/>\r\n      </g>\r\n     </g>\r\n     <g id=\"text_4\">\r\n      <!-- 2020-01-04 -->\r\n      <g transform=\"translate(162.046875 615.915625)rotate(-90)scale(0.1 -0.1)\">\r\n       <defs>\r\n        <path d=\"M 37.796875 64.3125 \r\nL 12.890625 25.390625 \r\nL 37.796875 25.390625 \r\nz\r\nM 35.203125 72.90625 \r\nL 47.609375 72.90625 \r\nL 47.609375 25.390625 \r\nL 58.015625 25.390625 \r\nL 58.015625 17.1875 \r\nL 47.609375 17.1875 \r\nL 47.609375 0 \r\nL 37.796875 0 \r\nL 37.796875 17.1875 \r\nL 4.890625 17.1875 \r\nL 4.890625 26.703125 \r\nz\r\n\" id=\"DejaVuSans-52\"/>\r\n       </defs>\r\n       <use xlink:href=\"#DejaVuSans-50\"/>\r\n       <use x=\"63.623047\" xlink:href=\"#DejaVuSans-48\"/>\r\n       <use x=\"127.246094\" xlink:href=\"#DejaVuSans-50\"/>\r\n       <use x=\"190.869141\" xlink:href=\"#DejaVuSans-48\"/>\r\n       <use x=\"254.492188\" xlink:href=\"#DejaVuSans-45\"/>\r\n       <use x=\"290.576172\" xlink:href=\"#DejaVuSans-48\"/>\r\n       <use x=\"354.199219\" xlink:href=\"#DejaVuSans-49\"/>\r\n       <use x=\"417.822266\" xlink:href=\"#DejaVuSans-45\"/>\r\n       <use x=\"453.90625\" xlink:href=\"#DejaVuSans-48\"/>\r\n       <use x=\"517.529297\" xlink:href=\"#DejaVuSans-52\"/>\r\n      </g>\r\n     </g>\r\n    </g>\r\n    <g id=\"xtick_5\">\r\n     <g id=\"line2d_5\">\r\n      <g>\r\n       <use style=\"stroke:#000000;stroke-width:0.8;\" x=\"195.2875\" xlink:href=\"#m7342d6f291\" y=\"550.8\"/>\r\n      </g>\r\n     </g>\r\n     <g id=\"text_5\">\r\n      <!-- 2020-01-05 -->\r\n      <g transform=\"translate(198.046875 615.915625)rotate(-90)scale(0.1 -0.1)\">\r\n       <defs>\r\n        <path d=\"M 10.796875 72.90625 \r\nL 49.515625 72.90625 \r\nL 49.515625 64.59375 \r\nL 19.828125 64.59375 \r\nL 19.828125 46.734375 \r\nQ 21.96875 47.46875 24.109375 47.828125 \r\nQ 26.265625 48.1875 28.421875 48.1875 \r\nQ 40.625 48.1875 47.75 41.5 \r\nQ 54.890625 34.8125 54.890625 23.390625 \r\nQ 54.890625 11.625 47.5625 5.09375 \r\nQ 40.234375 -1.421875 26.90625 -1.421875 \r\nQ 22.3125 -1.421875 17.546875 -0.640625 \r\nQ 12.796875 0.140625 7.71875 1.703125 \r\nL 7.71875 11.625 \r\nQ 12.109375 9.234375 16.796875 8.0625 \r\nQ 21.484375 6.890625 26.703125 6.890625 \r\nQ 35.15625 6.890625 40.078125 11.328125 \r\nQ 45.015625 15.765625 45.015625 23.390625 \r\nQ 45.015625 31 40.078125 35.4375 \r\nQ 35.15625 39.890625 26.703125 39.890625 \r\nQ 22.75 39.890625 18.8125 39.015625 \r\nQ 14.890625 38.140625 10.796875 36.28125 \r\nz\r\n\" id=\"DejaVuSans-53\"/>\r\n       </defs>\r\n       <use xlink:href=\"#DejaVuSans-50\"/>\r\n       <use x=\"63.623047\" xlink:href=\"#DejaVuSans-48\"/>\r\n       <use x=\"127.246094\" xlink:href=\"#DejaVuSans-50\"/>\r\n       <use x=\"190.869141\" xlink:href=\"#DejaVuSans-48\"/>\r\n       <use x=\"254.492188\" xlink:href=\"#DejaVuSans-45\"/>\r\n       <use x=\"290.576172\" xlink:href=\"#DejaVuSans-48\"/>\r\n       <use x=\"354.199219\" xlink:href=\"#DejaVuSans-49\"/>\r\n       <use x=\"417.822266\" xlink:href=\"#DejaVuSans-45\"/>\r\n       <use x=\"453.90625\" xlink:href=\"#DejaVuSans-48\"/>\r\n       <use x=\"517.529297\" xlink:href=\"#DejaVuSans-53\"/>\r\n      </g>\r\n     </g>\r\n    </g>\r\n    <g id=\"xtick_6\">\r\n     <g id=\"line2d_6\">\r\n      <g>\r\n       <use style=\"stroke:#000000;stroke-width:0.8;\" x=\"231.2875\" xlink:href=\"#m7342d6f291\" y=\"550.8\"/>\r\n      </g>\r\n     </g>\r\n     <g id=\"text_6\">\r\n      <!-- 2020-01-06 -->\r\n      <g transform=\"translate(234.046875 615.915625)rotate(-90)scale(0.1 -0.1)\">\r\n       <defs>\r\n        <path d=\"M 33.015625 40.375 \r\nQ 26.375 40.375 22.484375 35.828125 \r\nQ 18.609375 31.296875 18.609375 23.390625 \r\nQ 18.609375 15.53125 22.484375 10.953125 \r\nQ 26.375 6.390625 33.015625 6.390625 \r\nQ 39.65625 6.390625 43.53125 10.953125 \r\nQ 47.40625 15.53125 47.40625 23.390625 \r\nQ 47.40625 31.296875 43.53125 35.828125 \r\nQ 39.65625 40.375 33.015625 40.375 \r\nz\r\nM 52.59375 71.296875 \r\nL 52.59375 62.3125 \r\nQ 48.875 64.0625 45.09375 64.984375 \r\nQ 41.3125 65.921875 37.59375 65.921875 \r\nQ 27.828125 65.921875 22.671875 59.328125 \r\nQ 17.53125 52.734375 16.796875 39.40625 \r\nQ 19.671875 43.65625 24.015625 45.921875 \r\nQ 28.375 48.1875 33.59375 48.1875 \r\nQ 44.578125 48.1875 50.953125 41.515625 \r\nQ 57.328125 34.859375 57.328125 23.390625 \r\nQ 57.328125 12.15625 50.6875 5.359375 \r\nQ 44.046875 -1.421875 33.015625 -1.421875 \r\nQ 20.359375 -1.421875 13.671875 8.265625 \r\nQ 6.984375 17.96875 6.984375 36.375 \r\nQ 6.984375 53.65625 15.1875 63.9375 \r\nQ 23.390625 74.21875 37.203125 74.21875 \r\nQ 40.921875 74.21875 44.703125 73.484375 \r\nQ 48.484375 72.75 52.59375 71.296875 \r\nz\r\n\" id=\"DejaVuSans-54\"/>\r\n       </defs>\r\n       <use xlink:href=\"#DejaVuSans-50\"/>\r\n       <use x=\"63.623047\" xlink:href=\"#DejaVuSans-48\"/>\r\n       <use x=\"127.246094\" xlink:href=\"#DejaVuSans-50\"/>\r\n       <use x=\"190.869141\" xlink:href=\"#DejaVuSans-48\"/>\r\n       <use x=\"254.492188\" xlink:href=\"#DejaVuSans-45\"/>\r\n       <use x=\"290.576172\" xlink:href=\"#DejaVuSans-48\"/>\r\n       <use x=\"354.199219\" xlink:href=\"#DejaVuSans-49\"/>\r\n       <use x=\"417.822266\" xlink:href=\"#DejaVuSans-45\"/>\r\n       <use x=\"453.90625\" xlink:href=\"#DejaVuSans-48\"/>\r\n       <use x=\"517.529297\" xlink:href=\"#DejaVuSans-54\"/>\r\n      </g>\r\n     </g>\r\n    </g>\r\n    <g id=\"xtick_7\">\r\n     <g id=\"line2d_7\">\r\n      <g>\r\n       <use style=\"stroke:#000000;stroke-width:0.8;\" x=\"267.2875\" xlink:href=\"#m7342d6f291\" y=\"550.8\"/>\r\n      </g>\r\n     </g>\r\n     <g id=\"text_7\">\r\n      <!-- 2020-01-07 -->\r\n      <g transform=\"translate(270.046875 615.915625)rotate(-90)scale(0.1 -0.1)\">\r\n       <defs>\r\n        <path d=\"M 8.203125 72.90625 \r\nL 55.078125 72.90625 \r\nL 55.078125 68.703125 \r\nL 28.609375 0 \r\nL 18.3125 0 \r\nL 43.21875 64.59375 \r\nL 8.203125 64.59375 \r\nz\r\n\" id=\"DejaVuSans-55\"/>\r\n       </defs>\r\n       <use xlink:href=\"#DejaVuSans-50\"/>\r\n       <use x=\"63.623047\" xlink:href=\"#DejaVuSans-48\"/>\r\n       <use x=\"127.246094\" xlink:href=\"#DejaVuSans-50\"/>\r\n       <use x=\"190.869141\" xlink:href=\"#DejaVuSans-48\"/>\r\n       <use x=\"254.492188\" xlink:href=\"#DejaVuSans-45\"/>\r\n       <use x=\"290.576172\" xlink:href=\"#DejaVuSans-48\"/>\r\n       <use x=\"354.199219\" xlink:href=\"#DejaVuSans-49\"/>\r\n       <use x=\"417.822266\" xlink:href=\"#DejaVuSans-45\"/>\r\n       <use x=\"453.90625\" xlink:href=\"#DejaVuSans-48\"/>\r\n       <use x=\"517.529297\" xlink:href=\"#DejaVuSans-55\"/>\r\n      </g>\r\n     </g>\r\n    </g>\r\n    <g id=\"xtick_8\">\r\n     <g id=\"line2d_8\">\r\n      <g>\r\n       <use style=\"stroke:#000000;stroke-width:0.8;\" x=\"303.2875\" xlink:href=\"#m7342d6f291\" y=\"550.8\"/>\r\n      </g>\r\n     </g>\r\n     <g id=\"text_8\">\r\n      <!-- 2020-01-08 -->\r\n      <g transform=\"translate(306.046875 615.915625)rotate(-90)scale(0.1 -0.1)\">\r\n       <defs>\r\n        <path d=\"M 31.78125 34.625 \r\nQ 24.75 34.625 20.71875 30.859375 \r\nQ 16.703125 27.09375 16.703125 20.515625 \r\nQ 16.703125 13.921875 20.71875 10.15625 \r\nQ 24.75 6.390625 31.78125 6.390625 \r\nQ 38.8125 6.390625 42.859375 10.171875 \r\nQ 46.921875 13.96875 46.921875 20.515625 \r\nQ 46.921875 27.09375 42.890625 30.859375 \r\nQ 38.875 34.625 31.78125 34.625 \r\nz\r\nM 21.921875 38.8125 \r\nQ 15.578125 40.375 12.03125 44.71875 \r\nQ 8.5 49.078125 8.5 55.328125 \r\nQ 8.5 64.0625 14.71875 69.140625 \r\nQ 20.953125 74.21875 31.78125 74.21875 \r\nQ 42.671875 74.21875 48.875 69.140625 \r\nQ 55.078125 64.0625 55.078125 55.328125 \r\nQ 55.078125 49.078125 51.53125 44.71875 \r\nQ 48 40.375 41.703125 38.8125 \r\nQ 48.828125 37.15625 52.796875 32.3125 \r\nQ 56.78125 27.484375 56.78125 20.515625 \r\nQ 56.78125 9.90625 50.3125 4.234375 \r\nQ 43.84375 -1.421875 31.78125 -1.421875 \r\nQ 19.734375 -1.421875 13.25 4.234375 \r\nQ 6.78125 9.90625 6.78125 20.515625 \r\nQ 6.78125 27.484375 10.78125 32.3125 \r\nQ 14.796875 37.15625 21.921875 38.8125 \r\nz\r\nM 18.3125 54.390625 \r\nQ 18.3125 48.734375 21.84375 45.5625 \r\nQ 25.390625 42.390625 31.78125 42.390625 \r\nQ 38.140625 42.390625 41.71875 45.5625 \r\nQ 45.3125 48.734375 45.3125 54.390625 \r\nQ 45.3125 60.0625 41.71875 63.234375 \r\nQ 38.140625 66.40625 31.78125 66.40625 \r\nQ 25.390625 66.40625 21.84375 63.234375 \r\nQ 18.3125 60.0625 18.3125 54.390625 \r\nz\r\n\" id=\"DejaVuSans-56\"/>\r\n       </defs>\r\n       <use xlink:href=\"#DejaVuSans-50\"/>\r\n       <use x=\"63.623047\" xlink:href=\"#DejaVuSans-48\"/>\r\n       <use x=\"127.246094\" xlink:href=\"#DejaVuSans-50\"/>\r\n       <use x=\"190.869141\" xlink:href=\"#DejaVuSans-48\"/>\r\n       <use x=\"254.492188\" xlink:href=\"#DejaVuSans-45\"/>\r\n       <use x=\"290.576172\" xlink:href=\"#DejaVuSans-48\"/>\r\n       <use x=\"354.199219\" xlink:href=\"#DejaVuSans-49\"/>\r\n       <use x=\"417.822266\" xlink:href=\"#DejaVuSans-45\"/>\r\n       <use x=\"453.90625\" xlink:href=\"#DejaVuSans-48\"/>\r\n       <use x=\"517.529297\" xlink:href=\"#DejaVuSans-56\"/>\r\n      </g>\r\n     </g>\r\n    </g>\r\n    <g id=\"xtick_9\">\r\n     <g id=\"line2d_9\">\r\n      <g>\r\n       <use style=\"stroke:#000000;stroke-width:0.8;\" x=\"339.2875\" xlink:href=\"#m7342d6f291\" y=\"550.8\"/>\r\n      </g>\r\n     </g>\r\n     <g id=\"text_9\">\r\n      <!-- 2020-01-09 -->\r\n      <g transform=\"translate(342.046875 615.915625)rotate(-90)scale(0.1 -0.1)\">\r\n       <defs>\r\n        <path d=\"M 10.984375 1.515625 \r\nL 10.984375 10.5 \r\nQ 14.703125 8.734375 18.5 7.8125 \r\nQ 22.3125 6.890625 25.984375 6.890625 \r\nQ 35.75 6.890625 40.890625 13.453125 \r\nQ 46.046875 20.015625 46.78125 33.40625 \r\nQ 43.953125 29.203125 39.59375 26.953125 \r\nQ 35.25 24.703125 29.984375 24.703125 \r\nQ 19.046875 24.703125 12.671875 31.3125 \r\nQ 6.296875 37.9375 6.296875 49.421875 \r\nQ 6.296875 60.640625 12.9375 67.421875 \r\nQ 19.578125 74.21875 30.609375 74.21875 \r\nQ 43.265625 74.21875 49.921875 64.515625 \r\nQ 56.59375 54.828125 56.59375 36.375 \r\nQ 56.59375 19.140625 48.40625 8.859375 \r\nQ 40.234375 -1.421875 26.421875 -1.421875 \r\nQ 22.703125 -1.421875 18.890625 -0.6875 \r\nQ 15.09375 0.046875 10.984375 1.515625 \r\nz\r\nM 30.609375 32.421875 \r\nQ 37.25 32.421875 41.125 36.953125 \r\nQ 45.015625 41.5 45.015625 49.421875 \r\nQ 45.015625 57.28125 41.125 61.84375 \r\nQ 37.25 66.40625 30.609375 66.40625 \r\nQ 23.96875 66.40625 20.09375 61.84375 \r\nQ 16.21875 57.28125 16.21875 49.421875 \r\nQ 16.21875 41.5 20.09375 36.953125 \r\nQ 23.96875 32.421875 30.609375 32.421875 \r\nz\r\n\" id=\"DejaVuSans-57\"/>\r\n       </defs>\r\n       <use xlink:href=\"#DejaVuSans-50\"/>\r\n       <use x=\"63.623047\" xlink:href=\"#DejaVuSans-48\"/>\r\n       <use x=\"127.246094\" xlink:href=\"#DejaVuSans-50\"/>\r\n       <use x=\"190.869141\" xlink:href=\"#DejaVuSans-48\"/>\r\n       <use x=\"254.492188\" xlink:href=\"#DejaVuSans-45\"/>\r\n       <use x=\"290.576172\" xlink:href=\"#DejaVuSans-48\"/>\r\n       <use x=\"354.199219\" xlink:href=\"#DejaVuSans-49\"/>\r\n       <use x=\"417.822266\" xlink:href=\"#DejaVuSans-45\"/>\r\n       <use x=\"453.90625\" xlink:href=\"#DejaVuSans-48\"/>\r\n       <use x=\"517.529297\" xlink:href=\"#DejaVuSans-57\"/>\r\n      </g>\r\n     </g>\r\n    </g>\r\n    <g id=\"xtick_10\">\r\n     <g id=\"line2d_10\">\r\n      <g>\r\n       <use style=\"stroke:#000000;stroke-width:0.8;\" x=\"375.2875\" xlink:href=\"#m7342d6f291\" y=\"550.8\"/>\r\n      </g>\r\n     </g>\r\n     <g id=\"text_10\">\r\n      <!-- 2020-01-10 -->\r\n      <g transform=\"translate(378.046875 615.915625)rotate(-90)scale(0.1 -0.1)\">\r\n       <use xlink:href=\"#DejaVuSans-50\"/>\r\n       <use x=\"63.623047\" xlink:href=\"#DejaVuSans-48\"/>\r\n       <use x=\"127.246094\" xlink:href=\"#DejaVuSans-50\"/>\r\n       <use x=\"190.869141\" xlink:href=\"#DejaVuSans-48\"/>\r\n       <use x=\"254.492188\" xlink:href=\"#DejaVuSans-45\"/>\r\n       <use x=\"290.576172\" xlink:href=\"#DejaVuSans-48\"/>\r\n       <use x=\"354.199219\" xlink:href=\"#DejaVuSans-49\"/>\r\n       <use x=\"417.822266\" xlink:href=\"#DejaVuSans-45\"/>\r\n       <use x=\"453.90625\" xlink:href=\"#DejaVuSans-49\"/>\r\n       <use x=\"517.529297\" xlink:href=\"#DejaVuSans-48\"/>\r\n      </g>\r\n     </g>\r\n    </g>\r\n    <g id=\"xtick_11\">\r\n     <g id=\"line2d_11\">\r\n      <g>\r\n       <use style=\"stroke:#000000;stroke-width:0.8;\" x=\"411.2875\" xlink:href=\"#m7342d6f291\" y=\"550.8\"/>\r\n      </g>\r\n     </g>\r\n     <g id=\"text_11\">\r\n      <!-- 2020-01-11 -->\r\n      <g transform=\"translate(414.046875 615.915625)rotate(-90)scale(0.1 -0.1)\">\r\n       <use xlink:href=\"#DejaVuSans-50\"/>\r\n       <use x=\"63.623047\" xlink:href=\"#DejaVuSans-48\"/>\r\n       <use x=\"127.246094\" xlink:href=\"#DejaVuSans-50\"/>\r\n       <use x=\"190.869141\" xlink:href=\"#DejaVuSans-48\"/>\r\n       <use x=\"254.492188\" xlink:href=\"#DejaVuSans-45\"/>\r\n       <use x=\"290.576172\" xlink:href=\"#DejaVuSans-48\"/>\r\n       <use x=\"354.199219\" xlink:href=\"#DejaVuSans-49\"/>\r\n       <use x=\"417.822266\" xlink:href=\"#DejaVuSans-45\"/>\r\n       <use x=\"453.90625\" xlink:href=\"#DejaVuSans-49\"/>\r\n       <use x=\"517.529297\" xlink:href=\"#DejaVuSans-49\"/>\r\n      </g>\r\n     </g>\r\n    </g>\r\n    <g id=\"xtick_12\">\r\n     <g id=\"line2d_12\">\r\n      <g>\r\n       <use style=\"stroke:#000000;stroke-width:0.8;\" x=\"447.2875\" xlink:href=\"#m7342d6f291\" y=\"550.8\"/>\r\n      </g>\r\n     </g>\r\n     <g id=\"text_12\">\r\n      <!-- 2020-01-12 -->\r\n      <g transform=\"translate(450.046875 615.915625)rotate(-90)scale(0.1 -0.1)\">\r\n       <use xlink:href=\"#DejaVuSans-50\"/>\r\n       <use x=\"63.623047\" xlink:href=\"#DejaVuSans-48\"/>\r\n       <use x=\"127.246094\" xlink:href=\"#DejaVuSans-50\"/>\r\n       <use x=\"190.869141\" xlink:href=\"#DejaVuSans-48\"/>\r\n       <use x=\"254.492188\" xlink:href=\"#DejaVuSans-45\"/>\r\n       <use x=\"290.576172\" xlink:href=\"#DejaVuSans-48\"/>\r\n       <use x=\"354.199219\" xlink:href=\"#DejaVuSans-49\"/>\r\n       <use x=\"417.822266\" xlink:href=\"#DejaVuSans-45\"/>\r\n       <use x=\"453.90625\" xlink:href=\"#DejaVuSans-49\"/>\r\n       <use x=\"517.529297\" xlink:href=\"#DejaVuSans-50\"/>\r\n      </g>\r\n     </g>\r\n    </g>\r\n    <g id=\"xtick_13\">\r\n     <g id=\"line2d_13\">\r\n      <g>\r\n       <use style=\"stroke:#000000;stroke-width:0.8;\" x=\"483.2875\" xlink:href=\"#m7342d6f291\" y=\"550.8\"/>\r\n      </g>\r\n     </g>\r\n     <g id=\"text_13\">\r\n      <!-- 2020-01-13 -->\r\n      <g transform=\"translate(486.046875 615.915625)rotate(-90)scale(0.1 -0.1)\">\r\n       <use xlink:href=\"#DejaVuSans-50\"/>\r\n       <use x=\"63.623047\" xlink:href=\"#DejaVuSans-48\"/>\r\n       <use x=\"127.246094\" xlink:href=\"#DejaVuSans-50\"/>\r\n       <use x=\"190.869141\" xlink:href=\"#DejaVuSans-48\"/>\r\n       <use x=\"254.492188\" xlink:href=\"#DejaVuSans-45\"/>\r\n       <use x=\"290.576172\" xlink:href=\"#DejaVuSans-48\"/>\r\n       <use x=\"354.199219\" xlink:href=\"#DejaVuSans-49\"/>\r\n       <use x=\"417.822266\" xlink:href=\"#DejaVuSans-45\"/>\r\n       <use x=\"453.90625\" xlink:href=\"#DejaVuSans-49\"/>\r\n       <use x=\"517.529297\" xlink:href=\"#DejaVuSans-51\"/>\r\n      </g>\r\n     </g>\r\n    </g>\r\n    <g id=\"xtick_14\">\r\n     <g id=\"line2d_14\">\r\n      <g>\r\n       <use style=\"stroke:#000000;stroke-width:0.8;\" x=\"519.2875\" xlink:href=\"#m7342d6f291\" y=\"550.8\"/>\r\n      </g>\r\n     </g>\r\n     <g id=\"text_14\">\r\n      <!-- 2020-01-14 -->\r\n      <g transform=\"translate(522.046875 615.915625)rotate(-90)scale(0.1 -0.1)\">\r\n       <use xlink:href=\"#DejaVuSans-50\"/>\r\n       <use x=\"63.623047\" xlink:href=\"#DejaVuSans-48\"/>\r\n       <use x=\"127.246094\" xlink:href=\"#DejaVuSans-50\"/>\r\n       <use x=\"190.869141\" xlink:href=\"#DejaVuSans-48\"/>\r\n       <use x=\"254.492188\" xlink:href=\"#DejaVuSans-45\"/>\r\n       <use x=\"290.576172\" xlink:href=\"#DejaVuSans-48\"/>\r\n       <use x=\"354.199219\" xlink:href=\"#DejaVuSans-49\"/>\r\n       <use x=\"417.822266\" xlink:href=\"#DejaVuSans-45\"/>\r\n       <use x=\"453.90625\" xlink:href=\"#DejaVuSans-49\"/>\r\n       <use x=\"517.529297\" xlink:href=\"#DejaVuSans-52\"/>\r\n      </g>\r\n     </g>\r\n    </g>\r\n    <g id=\"xtick_15\">\r\n     <g id=\"line2d_15\">\r\n      <g>\r\n       <use style=\"stroke:#000000;stroke-width:0.8;\" x=\"555.2875\" xlink:href=\"#m7342d6f291\" y=\"550.8\"/>\r\n      </g>\r\n     </g>\r\n     <g id=\"text_15\">\r\n      <!-- 2020-01-15 -->\r\n      <g transform=\"translate(558.046875 615.915625)rotate(-90)scale(0.1 -0.1)\">\r\n       <use xlink:href=\"#DejaVuSans-50\"/>\r\n       <use x=\"63.623047\" xlink:href=\"#DejaVuSans-48\"/>\r\n       <use x=\"127.246094\" xlink:href=\"#DejaVuSans-50\"/>\r\n       <use x=\"190.869141\" xlink:href=\"#DejaVuSans-48\"/>\r\n       <use x=\"254.492188\" xlink:href=\"#DejaVuSans-45\"/>\r\n       <use x=\"290.576172\" xlink:href=\"#DejaVuSans-48\"/>\r\n       <use x=\"354.199219\" xlink:href=\"#DejaVuSans-49\"/>\r\n       <use x=\"417.822266\" xlink:href=\"#DejaVuSans-45\"/>\r\n       <use x=\"453.90625\" xlink:href=\"#DejaVuSans-49\"/>\r\n       <use x=\"517.529297\" xlink:href=\"#DejaVuSans-53\"/>\r\n      </g>\r\n     </g>\r\n    </g>\r\n    <g id=\"xtick_16\">\r\n     <g id=\"line2d_16\">\r\n      <g>\r\n       <use style=\"stroke:#000000;stroke-width:0.8;\" x=\"591.2875\" xlink:href=\"#m7342d6f291\" y=\"550.8\"/>\r\n      </g>\r\n     </g>\r\n     <g id=\"text_16\">\r\n      <!-- 2020-01-16 -->\r\n      <g transform=\"translate(594.046875 615.915625)rotate(-90)scale(0.1 -0.1)\">\r\n       <use xlink:href=\"#DejaVuSans-50\"/>\r\n       <use x=\"63.623047\" xlink:href=\"#DejaVuSans-48\"/>\r\n       <use x=\"127.246094\" xlink:href=\"#DejaVuSans-50\"/>\r\n       <use x=\"190.869141\" xlink:href=\"#DejaVuSans-48\"/>\r\n       <use x=\"254.492188\" xlink:href=\"#DejaVuSans-45\"/>\r\n       <use x=\"290.576172\" xlink:href=\"#DejaVuSans-48\"/>\r\n       <use x=\"354.199219\" xlink:href=\"#DejaVuSans-49\"/>\r\n       <use x=\"417.822266\" xlink:href=\"#DejaVuSans-45\"/>\r\n       <use x=\"453.90625\" xlink:href=\"#DejaVuSans-49\"/>\r\n       <use x=\"517.529297\" xlink:href=\"#DejaVuSans-54\"/>\r\n      </g>\r\n     </g>\r\n    </g>\r\n    <g id=\"xtick_17\">\r\n     <g id=\"line2d_17\">\r\n      <g>\r\n       <use style=\"stroke:#000000;stroke-width:0.8;\" x=\"627.2875\" xlink:href=\"#m7342d6f291\" y=\"550.8\"/>\r\n      </g>\r\n     </g>\r\n     <g id=\"text_17\">\r\n      <!-- 2020-01-17 -->\r\n      <g transform=\"translate(630.046875 615.915625)rotate(-90)scale(0.1 -0.1)\">\r\n       <use xlink:href=\"#DejaVuSans-50\"/>\r\n       <use x=\"63.623047\" xlink:href=\"#DejaVuSans-48\"/>\r\n       <use x=\"127.246094\" xlink:href=\"#DejaVuSans-50\"/>\r\n       <use x=\"190.869141\" xlink:href=\"#DejaVuSans-48\"/>\r\n       <use x=\"254.492188\" xlink:href=\"#DejaVuSans-45\"/>\r\n       <use x=\"290.576172\" xlink:href=\"#DejaVuSans-48\"/>\r\n       <use x=\"354.199219\" xlink:href=\"#DejaVuSans-49\"/>\r\n       <use x=\"417.822266\" xlink:href=\"#DejaVuSans-45\"/>\r\n       <use x=\"453.90625\" xlink:href=\"#DejaVuSans-49\"/>\r\n       <use x=\"517.529297\" xlink:href=\"#DejaVuSans-55\"/>\r\n      </g>\r\n     </g>\r\n    </g>\r\n    <g id=\"xtick_18\">\r\n     <g id=\"line2d_18\">\r\n      <g>\r\n       <use style=\"stroke:#000000;stroke-width:0.8;\" x=\"663.2875\" xlink:href=\"#m7342d6f291\" y=\"550.8\"/>\r\n      </g>\r\n     </g>\r\n     <g id=\"text_18\">\r\n      <!-- 2020-01-18 -->\r\n      <g transform=\"translate(666.046875 615.915625)rotate(-90)scale(0.1 -0.1)\">\r\n       <use xlink:href=\"#DejaVuSans-50\"/>\r\n       <use x=\"63.623047\" xlink:href=\"#DejaVuSans-48\"/>\r\n       <use x=\"127.246094\" xlink:href=\"#DejaVuSans-50\"/>\r\n       <use x=\"190.869141\" xlink:href=\"#DejaVuSans-48\"/>\r\n       <use x=\"254.492188\" xlink:href=\"#DejaVuSans-45\"/>\r\n       <use x=\"290.576172\" xlink:href=\"#DejaVuSans-48\"/>\r\n       <use x=\"354.199219\" xlink:href=\"#DejaVuSans-49\"/>\r\n       <use x=\"417.822266\" xlink:href=\"#DejaVuSans-45\"/>\r\n       <use x=\"453.90625\" xlink:href=\"#DejaVuSans-49\"/>\r\n       <use x=\"517.529297\" xlink:href=\"#DejaVuSans-56\"/>\r\n      </g>\r\n     </g>\r\n    </g>\r\n    <g id=\"xtick_19\">\r\n     <g id=\"line2d_19\">\r\n      <g>\r\n       <use style=\"stroke:#000000;stroke-width:0.8;\" x=\"699.2875\" xlink:href=\"#m7342d6f291\" y=\"550.8\"/>\r\n      </g>\r\n     </g>\r\n     <g id=\"text_19\">\r\n      <!-- 2020-01-19 -->\r\n      <g transform=\"translate(702.046875 615.915625)rotate(-90)scale(0.1 -0.1)\">\r\n       <use xlink:href=\"#DejaVuSans-50\"/>\r\n       <use x=\"63.623047\" xlink:href=\"#DejaVuSans-48\"/>\r\n       <use x=\"127.246094\" xlink:href=\"#DejaVuSans-50\"/>\r\n       <use x=\"190.869141\" xlink:href=\"#DejaVuSans-48\"/>\r\n       <use x=\"254.492188\" xlink:href=\"#DejaVuSans-45\"/>\r\n       <use x=\"290.576172\" xlink:href=\"#DejaVuSans-48\"/>\r\n       <use x=\"354.199219\" xlink:href=\"#DejaVuSans-49\"/>\r\n       <use x=\"417.822266\" xlink:href=\"#DejaVuSans-45\"/>\r\n       <use x=\"453.90625\" xlink:href=\"#DejaVuSans-49\"/>\r\n       <use x=\"517.529297\" xlink:href=\"#DejaVuSans-57\"/>\r\n      </g>\r\n     </g>\r\n    </g>\r\n    <g id=\"xtick_20\">\r\n     <g id=\"line2d_20\">\r\n      <g>\r\n       <use style=\"stroke:#000000;stroke-width:0.8;\" x=\"735.2875\" xlink:href=\"#m7342d6f291\" y=\"550.8\"/>\r\n      </g>\r\n     </g>\r\n     <g id=\"text_20\">\r\n      <!-- 2020-01-20 -->\r\n      <g transform=\"translate(738.046875 615.915625)rotate(-90)scale(0.1 -0.1)\">\r\n       <use xlink:href=\"#DejaVuSans-50\"/>\r\n       <use x=\"63.623047\" xlink:href=\"#DejaVuSans-48\"/>\r\n       <use x=\"127.246094\" xlink:href=\"#DejaVuSans-50\"/>\r\n       <use x=\"190.869141\" xlink:href=\"#DejaVuSans-48\"/>\r\n       <use x=\"254.492188\" xlink:href=\"#DejaVuSans-45\"/>\r\n       <use x=\"290.576172\" xlink:href=\"#DejaVuSans-48\"/>\r\n       <use x=\"354.199219\" xlink:href=\"#DejaVuSans-49\"/>\r\n       <use x=\"417.822266\" xlink:href=\"#DejaVuSans-45\"/>\r\n       <use x=\"453.90625\" xlink:href=\"#DejaVuSans-50\"/>\r\n       <use x=\"517.529297\" xlink:href=\"#DejaVuSans-48\"/>\r\n      </g>\r\n     </g>\r\n    </g>\r\n    <g id=\"xtick_21\">\r\n     <g id=\"line2d_21\">\r\n      <g>\r\n       <use style=\"stroke:#000000;stroke-width:0.8;\" x=\"771.2875\" xlink:href=\"#m7342d6f291\" y=\"550.8\"/>\r\n      </g>\r\n     </g>\r\n     <g id=\"text_21\">\r\n      <!-- 2020-01-21 -->\r\n      <g transform=\"translate(774.046875 615.915625)rotate(-90)scale(0.1 -0.1)\">\r\n       <use xlink:href=\"#DejaVuSans-50\"/>\r\n       <use x=\"63.623047\" xlink:href=\"#DejaVuSans-48\"/>\r\n       <use x=\"127.246094\" xlink:href=\"#DejaVuSans-50\"/>\r\n       <use x=\"190.869141\" xlink:href=\"#DejaVuSans-48\"/>\r\n       <use x=\"254.492188\" xlink:href=\"#DejaVuSans-45\"/>\r\n       <use x=\"290.576172\" xlink:href=\"#DejaVuSans-48\"/>\r\n       <use x=\"354.199219\" xlink:href=\"#DejaVuSans-49\"/>\r\n       <use x=\"417.822266\" xlink:href=\"#DejaVuSans-45\"/>\r\n       <use x=\"453.90625\" xlink:href=\"#DejaVuSans-50\"/>\r\n       <use x=\"517.529297\" xlink:href=\"#DejaVuSans-49\"/>\r\n      </g>\r\n     </g>\r\n    </g>\r\n    <g id=\"xtick_22\">\r\n     <g id=\"line2d_22\">\r\n      <g>\r\n       <use style=\"stroke:#000000;stroke-width:0.8;\" x=\"807.2875\" xlink:href=\"#m7342d6f291\" y=\"550.8\"/>\r\n      </g>\r\n     </g>\r\n     <g id=\"text_22\">\r\n      <!-- 2020-01-22 -->\r\n      <g transform=\"translate(810.046875 615.915625)rotate(-90)scale(0.1 -0.1)\">\r\n       <use xlink:href=\"#DejaVuSans-50\"/>\r\n       <use x=\"63.623047\" xlink:href=\"#DejaVuSans-48\"/>\r\n       <use x=\"127.246094\" xlink:href=\"#DejaVuSans-50\"/>\r\n       <use x=\"190.869141\" xlink:href=\"#DejaVuSans-48\"/>\r\n       <use x=\"254.492188\" xlink:href=\"#DejaVuSans-45\"/>\r\n       <use x=\"290.576172\" xlink:href=\"#DejaVuSans-48\"/>\r\n       <use x=\"354.199219\" xlink:href=\"#DejaVuSans-49\"/>\r\n       <use x=\"417.822266\" xlink:href=\"#DejaVuSans-45\"/>\r\n       <use x=\"453.90625\" xlink:href=\"#DejaVuSans-50\"/>\r\n       <use x=\"517.529297\" xlink:href=\"#DejaVuSans-50\"/>\r\n      </g>\r\n     </g>\r\n    </g>\r\n    <g id=\"xtick_23\">\r\n     <g id=\"line2d_23\">\r\n      <g>\r\n       <use style=\"stroke:#000000;stroke-width:0.8;\" x=\"843.2875\" xlink:href=\"#m7342d6f291\" y=\"550.8\"/>\r\n      </g>\r\n     </g>\r\n     <g id=\"text_23\">\r\n      <!-- 2020-01-23 -->\r\n      <g transform=\"translate(846.046875 615.915625)rotate(-90)scale(0.1 -0.1)\">\r\n       <use xlink:href=\"#DejaVuSans-50\"/>\r\n       <use x=\"63.623047\" xlink:href=\"#DejaVuSans-48\"/>\r\n       <use x=\"127.246094\" xlink:href=\"#DejaVuSans-50\"/>\r\n       <use x=\"190.869141\" xlink:href=\"#DejaVuSans-48\"/>\r\n       <use x=\"254.492188\" xlink:href=\"#DejaVuSans-45\"/>\r\n       <use x=\"290.576172\" xlink:href=\"#DejaVuSans-48\"/>\r\n       <use x=\"354.199219\" xlink:href=\"#DejaVuSans-49\"/>\r\n       <use x=\"417.822266\" xlink:href=\"#DejaVuSans-45\"/>\r\n       <use x=\"453.90625\" xlink:href=\"#DejaVuSans-50\"/>\r\n       <use x=\"517.529297\" xlink:href=\"#DejaVuSans-51\"/>\r\n      </g>\r\n     </g>\r\n    </g>\r\n    <g id=\"xtick_24\">\r\n     <g id=\"line2d_24\">\r\n      <g>\r\n       <use style=\"stroke:#000000;stroke-width:0.8;\" x=\"879.2875\" xlink:href=\"#m7342d6f291\" y=\"550.8\"/>\r\n      </g>\r\n     </g>\r\n     <g id=\"text_24\">\r\n      <!-- 2020-01-24 -->\r\n      <g transform=\"translate(882.046875 615.915625)rotate(-90)scale(0.1 -0.1)\">\r\n       <use xlink:href=\"#DejaVuSans-50\"/>\r\n       <use x=\"63.623047\" xlink:href=\"#DejaVuSans-48\"/>\r\n       <use x=\"127.246094\" xlink:href=\"#DejaVuSans-50\"/>\r\n       <use x=\"190.869141\" xlink:href=\"#DejaVuSans-48\"/>\r\n       <use x=\"254.492188\" xlink:href=\"#DejaVuSans-45\"/>\r\n       <use x=\"290.576172\" xlink:href=\"#DejaVuSans-48\"/>\r\n       <use x=\"354.199219\" xlink:href=\"#DejaVuSans-49\"/>\r\n       <use x=\"417.822266\" xlink:href=\"#DejaVuSans-45\"/>\r\n       <use x=\"453.90625\" xlink:href=\"#DejaVuSans-50\"/>\r\n       <use x=\"517.529297\" xlink:href=\"#DejaVuSans-52\"/>\r\n      </g>\r\n     </g>\r\n    </g>\r\n    <g id=\"xtick_25\">\r\n     <g id=\"line2d_25\">\r\n      <g>\r\n       <use style=\"stroke:#000000;stroke-width:0.8;\" x=\"915.2875\" xlink:href=\"#m7342d6f291\" y=\"550.8\"/>\r\n      </g>\r\n     </g>\r\n     <g id=\"text_25\">\r\n      <!-- 2020-01-25 -->\r\n      <g transform=\"translate(918.046875 615.915625)rotate(-90)scale(0.1 -0.1)\">\r\n       <use xlink:href=\"#DejaVuSans-50\"/>\r\n       <use x=\"63.623047\" xlink:href=\"#DejaVuSans-48\"/>\r\n       <use x=\"127.246094\" xlink:href=\"#DejaVuSans-50\"/>\r\n       <use x=\"190.869141\" xlink:href=\"#DejaVuSans-48\"/>\r\n       <use x=\"254.492188\" xlink:href=\"#DejaVuSans-45\"/>\r\n       <use x=\"290.576172\" xlink:href=\"#DejaVuSans-48\"/>\r\n       <use x=\"354.199219\" xlink:href=\"#DejaVuSans-49\"/>\r\n       <use x=\"417.822266\" xlink:href=\"#DejaVuSans-45\"/>\r\n       <use x=\"453.90625\" xlink:href=\"#DejaVuSans-50\"/>\r\n       <use x=\"517.529297\" xlink:href=\"#DejaVuSans-53\"/>\r\n      </g>\r\n     </g>\r\n    </g>\r\n    <g id=\"xtick_26\">\r\n     <g id=\"line2d_26\">\r\n      <g>\r\n       <use style=\"stroke:#000000;stroke-width:0.8;\" x=\"951.2875\" xlink:href=\"#m7342d6f291\" y=\"550.8\"/>\r\n      </g>\r\n     </g>\r\n     <g id=\"text_26\">\r\n      <!-- 2020-01-26 -->\r\n      <g transform=\"translate(954.046875 615.915625)rotate(-90)scale(0.1 -0.1)\">\r\n       <use xlink:href=\"#DejaVuSans-50\"/>\r\n       <use x=\"63.623047\" xlink:href=\"#DejaVuSans-48\"/>\r\n       <use x=\"127.246094\" xlink:href=\"#DejaVuSans-50\"/>\r\n       <use x=\"190.869141\" xlink:href=\"#DejaVuSans-48\"/>\r\n       <use x=\"254.492188\" xlink:href=\"#DejaVuSans-45\"/>\r\n       <use x=\"290.576172\" xlink:href=\"#DejaVuSans-48\"/>\r\n       <use x=\"354.199219\" xlink:href=\"#DejaVuSans-49\"/>\r\n       <use x=\"417.822266\" xlink:href=\"#DejaVuSans-45\"/>\r\n       <use x=\"453.90625\" xlink:href=\"#DejaVuSans-50\"/>\r\n       <use x=\"517.529297\" xlink:href=\"#DejaVuSans-54\"/>\r\n      </g>\r\n     </g>\r\n    </g>\r\n    <g id=\"xtick_27\">\r\n     <g id=\"line2d_27\">\r\n      <g>\r\n       <use style=\"stroke:#000000;stroke-width:0.8;\" x=\"987.2875\" xlink:href=\"#m7342d6f291\" y=\"550.8\"/>\r\n      </g>\r\n     </g>\r\n     <g id=\"text_27\">\r\n      <!-- 2020-01-27 -->\r\n      <g transform=\"translate(990.046875 615.915625)rotate(-90)scale(0.1 -0.1)\">\r\n       <use xlink:href=\"#DejaVuSans-50\"/>\r\n       <use x=\"63.623047\" xlink:href=\"#DejaVuSans-48\"/>\r\n       <use x=\"127.246094\" xlink:href=\"#DejaVuSans-50\"/>\r\n       <use x=\"190.869141\" xlink:href=\"#DejaVuSans-48\"/>\r\n       <use x=\"254.492188\" xlink:href=\"#DejaVuSans-45\"/>\r\n       <use x=\"290.576172\" xlink:href=\"#DejaVuSans-48\"/>\r\n       <use x=\"354.199219\" xlink:href=\"#DejaVuSans-49\"/>\r\n       <use x=\"417.822266\" xlink:href=\"#DejaVuSans-45\"/>\r\n       <use x=\"453.90625\" xlink:href=\"#DejaVuSans-50\"/>\r\n       <use x=\"517.529297\" xlink:href=\"#DejaVuSans-55\"/>\r\n      </g>\r\n     </g>\r\n    </g>\r\n    <g id=\"xtick_28\">\r\n     <g id=\"line2d_28\">\r\n      <g>\r\n       <use style=\"stroke:#000000;stroke-width:0.8;\" x=\"1023.2875\" xlink:href=\"#m7342d6f291\" y=\"550.8\"/>\r\n      </g>\r\n     </g>\r\n     <g id=\"text_28\">\r\n      <!-- 2020-01-28 -->\r\n      <g transform=\"translate(1026.046875 615.915625)rotate(-90)scale(0.1 -0.1)\">\r\n       <use xlink:href=\"#DejaVuSans-50\"/>\r\n       <use x=\"63.623047\" xlink:href=\"#DejaVuSans-48\"/>\r\n       <use x=\"127.246094\" xlink:href=\"#DejaVuSans-50\"/>\r\n       <use x=\"190.869141\" xlink:href=\"#DejaVuSans-48\"/>\r\n       <use x=\"254.492188\" xlink:href=\"#DejaVuSans-45\"/>\r\n       <use x=\"290.576172\" xlink:href=\"#DejaVuSans-48\"/>\r\n       <use x=\"354.199219\" xlink:href=\"#DejaVuSans-49\"/>\r\n       <use x=\"417.822266\" xlink:href=\"#DejaVuSans-45\"/>\r\n       <use x=\"453.90625\" xlink:href=\"#DejaVuSans-50\"/>\r\n       <use x=\"517.529297\" xlink:href=\"#DejaVuSans-56\"/>\r\n      </g>\r\n     </g>\r\n    </g>\r\n    <g id=\"xtick_29\">\r\n     <g id=\"line2d_29\">\r\n      <g>\r\n       <use style=\"stroke:#000000;stroke-width:0.8;\" x=\"1059.2875\" xlink:href=\"#m7342d6f291\" y=\"550.8\"/>\r\n      </g>\r\n     </g>\r\n     <g id=\"text_29\">\r\n      <!-- 2020-01-29 -->\r\n      <g transform=\"translate(1062.046875 615.915625)rotate(-90)scale(0.1 -0.1)\">\r\n       <use xlink:href=\"#DejaVuSans-50\"/>\r\n       <use x=\"63.623047\" xlink:href=\"#DejaVuSans-48\"/>\r\n       <use x=\"127.246094\" xlink:href=\"#DejaVuSans-50\"/>\r\n       <use x=\"190.869141\" xlink:href=\"#DejaVuSans-48\"/>\r\n       <use x=\"254.492188\" xlink:href=\"#DejaVuSans-45\"/>\r\n       <use x=\"290.576172\" xlink:href=\"#DejaVuSans-48\"/>\r\n       <use x=\"354.199219\" xlink:href=\"#DejaVuSans-49\"/>\r\n       <use x=\"417.822266\" xlink:href=\"#DejaVuSans-45\"/>\r\n       <use x=\"453.90625\" xlink:href=\"#DejaVuSans-50\"/>\r\n       <use x=\"517.529297\" xlink:href=\"#DejaVuSans-57\"/>\r\n      </g>\r\n     </g>\r\n    </g>\r\n    <g id=\"xtick_30\">\r\n     <g id=\"line2d_30\">\r\n      <g>\r\n       <use style=\"stroke:#000000;stroke-width:0.8;\" x=\"1095.2875\" xlink:href=\"#m7342d6f291\" y=\"550.8\"/>\r\n      </g>\r\n     </g>\r\n     <g id=\"text_30\">\r\n      <!-- 2020-01-30 -->\r\n      <g transform=\"translate(1098.046875 615.915625)rotate(-90)scale(0.1 -0.1)\">\r\n       <use xlink:href=\"#DejaVuSans-50\"/>\r\n       <use x=\"63.623047\" xlink:href=\"#DejaVuSans-48\"/>\r\n       <use x=\"127.246094\" xlink:href=\"#DejaVuSans-50\"/>\r\n       <use x=\"190.869141\" xlink:href=\"#DejaVuSans-48\"/>\r\n       <use x=\"254.492188\" xlink:href=\"#DejaVuSans-45\"/>\r\n       <use x=\"290.576172\" xlink:href=\"#DejaVuSans-48\"/>\r\n       <use x=\"354.199219\" xlink:href=\"#DejaVuSans-49\"/>\r\n       <use x=\"417.822266\" xlink:href=\"#DejaVuSans-45\"/>\r\n       <use x=\"453.90625\" xlink:href=\"#DejaVuSans-51\"/>\r\n       <use x=\"517.529297\" xlink:href=\"#DejaVuSans-48\"/>\r\n      </g>\r\n     </g>\r\n    </g>\r\n    <g id=\"xtick_31\">\r\n     <g id=\"line2d_31\">\r\n      <g>\r\n       <use style=\"stroke:#000000;stroke-width:0.8;\" x=\"1131.2875\" xlink:href=\"#m7342d6f291\" y=\"550.8\"/>\r\n      </g>\r\n     </g>\r\n     <g id=\"text_31\">\r\n      <!-- 2020-01-31 -->\r\n      <g transform=\"translate(1134.046875 615.915625)rotate(-90)scale(0.1 -0.1)\">\r\n       <use xlink:href=\"#DejaVuSans-50\"/>\r\n       <use x=\"63.623047\" xlink:href=\"#DejaVuSans-48\"/>\r\n       <use x=\"127.246094\" xlink:href=\"#DejaVuSans-50\"/>\r\n       <use x=\"190.869141\" xlink:href=\"#DejaVuSans-48\"/>\r\n       <use x=\"254.492188\" xlink:href=\"#DejaVuSans-45\"/>\r\n       <use x=\"290.576172\" xlink:href=\"#DejaVuSans-48\"/>\r\n       <use x=\"354.199219\" xlink:href=\"#DejaVuSans-49\"/>\r\n       <use x=\"417.822266\" xlink:href=\"#DejaVuSans-45\"/>\r\n       <use x=\"453.90625\" xlink:href=\"#DejaVuSans-51\"/>\r\n       <use x=\"517.529297\" xlink:href=\"#DejaVuSans-49\"/>\r\n      </g>\r\n     </g>\r\n    </g>\r\n   </g>\r\n   <g id=\"matplotlib.axis_2\">\r\n    <g id=\"ytick_1\">\r\n     <g id=\"line2d_32\">\r\n      <defs>\r\n       <path d=\"M 0 0 \r\nL -3.5 0 \r\n\" id=\"mc275e1e75b\" style=\"stroke:#000000;stroke-width:0.8;\"/>\r\n      </defs>\r\n      <g>\r\n       <use style=\"stroke:#000000;stroke-width:0.8;\" x=\"33.2875\" xlink:href=\"#mc275e1e75b\" y=\"550.8\"/>\r\n      </g>\r\n     </g>\r\n     <g id=\"text_32\">\r\n      <!-- 0 -->\r\n      <g transform=\"translate(19.925 554.599219)scale(0.1 -0.1)\">\r\n       <use xlink:href=\"#DejaVuSans-48\"/>\r\n      </g>\r\n     </g>\r\n    </g>\r\n    <g id=\"ytick_2\">\r\n     <g id=\"line2d_33\">\r\n      <g>\r\n       <use style=\"stroke:#000000;stroke-width:0.8;\" x=\"33.2875\" xlink:href=\"#mc275e1e75b\" y=\"467.162797\"/>\r\n      </g>\r\n     </g>\r\n     <g id=\"text_33\">\r\n      <!-- 100 -->\r\n      <g transform=\"translate(7.2 470.962016)scale(0.1 -0.1)\">\r\n       <use xlink:href=\"#DejaVuSans-49\"/>\r\n       <use x=\"63.623047\" xlink:href=\"#DejaVuSans-48\"/>\r\n       <use x=\"127.246094\" xlink:href=\"#DejaVuSans-48\"/>\r\n      </g>\r\n     </g>\r\n    </g>\r\n    <g id=\"ytick_3\">\r\n     <g id=\"line2d_34\">\r\n      <g>\r\n       <use style=\"stroke:#000000;stroke-width:0.8;\" x=\"33.2875\" xlink:href=\"#mc275e1e75b\" y=\"383.525594\"/>\r\n      </g>\r\n     </g>\r\n     <g id=\"text_34\">\r\n      <!-- 200 -->\r\n      <g transform=\"translate(7.2 387.324813)scale(0.1 -0.1)\">\r\n       <use xlink:href=\"#DejaVuSans-50\"/>\r\n       <use x=\"63.623047\" xlink:href=\"#DejaVuSans-48\"/>\r\n       <use x=\"127.246094\" xlink:href=\"#DejaVuSans-48\"/>\r\n      </g>\r\n     </g>\r\n    </g>\r\n    <g id=\"ytick_4\">\r\n     <g id=\"line2d_35\">\r\n      <g>\r\n       <use style=\"stroke:#000000;stroke-width:0.8;\" x=\"33.2875\" xlink:href=\"#mc275e1e75b\" y=\"299.888391\"/>\r\n      </g>\r\n     </g>\r\n     <g id=\"text_35\">\r\n      <!-- 300 -->\r\n      <g transform=\"translate(7.2 303.68761)scale(0.1 -0.1)\">\r\n       <use xlink:href=\"#DejaVuSans-51\"/>\r\n       <use x=\"63.623047\" xlink:href=\"#DejaVuSans-48\"/>\r\n       <use x=\"127.246094\" xlink:href=\"#DejaVuSans-48\"/>\r\n      </g>\r\n     </g>\r\n    </g>\r\n    <g id=\"ytick_5\">\r\n     <g id=\"line2d_36\">\r\n      <g>\r\n       <use style=\"stroke:#000000;stroke-width:0.8;\" x=\"33.2875\" xlink:href=\"#mc275e1e75b\" y=\"216.251189\"/>\r\n      </g>\r\n     </g>\r\n     <g id=\"text_36\">\r\n      <!-- 400 -->\r\n      <g transform=\"translate(7.2 220.050407)scale(0.1 -0.1)\">\r\n       <use xlink:href=\"#DejaVuSans-52\"/>\r\n       <use x=\"63.623047\" xlink:href=\"#DejaVuSans-48\"/>\r\n       <use x=\"127.246094\" xlink:href=\"#DejaVuSans-48\"/>\r\n      </g>\r\n     </g>\r\n    </g>\r\n    <g id=\"ytick_6\">\r\n     <g id=\"line2d_37\">\r\n      <g>\r\n       <use style=\"stroke:#000000;stroke-width:0.8;\" x=\"33.2875\" xlink:href=\"#mc275e1e75b\" y=\"132.613986\"/>\r\n      </g>\r\n     </g>\r\n     <g id=\"text_37\">\r\n      <!-- 500 -->\r\n      <g transform=\"translate(7.2 136.413204)scale(0.1 -0.1)\">\r\n       <use xlink:href=\"#DejaVuSans-53\"/>\r\n       <use x=\"63.623047\" xlink:href=\"#DejaVuSans-48\"/>\r\n       <use x=\"127.246094\" xlink:href=\"#DejaVuSans-48\"/>\r\n      </g>\r\n     </g>\r\n    </g>\r\n    <g id=\"ytick_7\">\r\n     <g id=\"line2d_38\">\r\n      <g>\r\n       <use style=\"stroke:#000000;stroke-width:0.8;\" x=\"33.2875\" xlink:href=\"#mc275e1e75b\" y=\"48.976783\"/>\r\n      </g>\r\n     </g>\r\n     <g id=\"text_38\">\r\n      <!-- 600 -->\r\n      <g transform=\"translate(7.2 52.776002)scale(0.1 -0.1)\">\r\n       <use xlink:href=\"#DejaVuSans-54\"/>\r\n       <use x=\"63.623047\" xlink:href=\"#DejaVuSans-48\"/>\r\n       <use x=\"127.246094\" xlink:href=\"#DejaVuSans-48\"/>\r\n      </g>\r\n     </g>\r\n    </g>\r\n   </g>\r\n   <g id=\"patch_65\">\r\n    <path d=\"M 33.2875 550.8 \r\nL 33.2875 7.2 \r\n\" style=\"fill:none;stroke:#000000;stroke-linecap:square;stroke-linejoin:miter;stroke-width:0.8;\"/>\r\n   </g>\r\n   <g id=\"patch_66\">\r\n    <path d=\"M 1149.2875 550.8 \r\nL 1149.2875 7.2 \r\n\" style=\"fill:none;stroke:#000000;stroke-linecap:square;stroke-linejoin:miter;stroke-width:0.8;\"/>\r\n   </g>\r\n   <g id=\"patch_67\">\r\n    <path d=\"M 33.2875 550.8 \r\nL 1149.2875 550.8 \r\n\" style=\"fill:none;stroke:#000000;stroke-linecap:square;stroke-linejoin:miter;stroke-width:0.8;\"/>\r\n   </g>\r\n   <g id=\"patch_68\">\r\n    <path d=\"M 33.2875 7.2 \r\nL 1149.2875 7.2 \r\n\" style=\"fill:none;stroke:#000000;stroke-linecap:square;stroke-linejoin:miter;stroke-width:0.8;\"/>\r\n   </g>\r\n   <g id=\"legend_1\">\r\n    <g id=\"patch_69\">\r\n     <path d=\"M 1103.925 44.55625 \r\nL 1142.2875 44.55625 \r\nQ 1144.2875 44.55625 1144.2875 42.55625 \r\nL 1144.2875 14.2 \r\nQ 1144.2875 12.2 1142.2875 12.2 \r\nL 1103.925 12.2 \r\nQ 1101.925 12.2 1101.925 14.2 \r\nL 1101.925 42.55625 \r\nQ 1101.925 44.55625 1103.925 44.55625 \r\nz\r\n\" style=\"fill:#ffffff;opacity:0.8;stroke:#cccccc;stroke-linejoin:miter;\"/>\r\n    </g>\r\n    <g id=\"patch_70\">\r\n     <path d=\"M 1105.925 23.798437 \r\nL 1125.925 23.798437 \r\nL 1125.925 16.798437 \r\nL 1105.925 16.798437 \r\nz\r\n\" style=\"fill:#1f77b4;\"/>\r\n    </g>\r\n    <g id=\"text_39\">\r\n     <!-- 0 -->\r\n     <g transform=\"translate(1133.925 23.798437)scale(0.1 -0.1)\">\r\n      <use xlink:href=\"#DejaVuSans-48\"/>\r\n     </g>\r\n    </g>\r\n    <g id=\"patch_71\">\r\n     <path d=\"M 1105.925 38.476562 \r\nL 1125.925 38.476562 \r\nL 1125.925 31.476562 \r\nL 1105.925 31.476562 \r\nz\r\n\" style=\"fill:#ff7f0e;\"/>\r\n    </g>\r\n    <g id=\"text_40\">\r\n     <!-- 1 -->\r\n     <g transform=\"translate(1133.925 38.476562)scale(0.1 -0.1)\">\r\n      <use xlink:href=\"#DejaVuSans-49\"/>\r\n     </g>\r\n    </g>\r\n   </g>\r\n  </g>\r\n </g>\r\n <defs>\r\n  <clipPath id=\"p497b102467\">\r\n   <rect height=\"543.6\" width=\"1116\" x=\"33.2875\" y=\"7.2\"/>\r\n  </clipPath>\r\n </defs>\r\n</svg>\r\n",
      "image/png": "[encoded data removed]"
     },
     "metadata": {
      "needs_background": "light"
     }
    }
   ],
   "source": [
    "df_bar = pd.DataFrame(data=daily_log_count).T\n",
    "df_bar.index.astype('datetime64[ns]')\n",
    "df_bar.sort_index(inplace=True)\n",
    "df_bar.loc['2020-01-01':'2020-01-31'].plot(kind='bar')"
   ]
  },
  {
   "cell_type": "code",
   "execution_count": 11,
   "metadata": {},
   "outputs": [],
   "source": [
    "import re\n",
    "\n",
    "def clean_content(message):\n",
    "\n",
    "    try:\n",
    "        message = message.lower()\n",
    "        message = re.sub(r\"\\b\\d{1,3}\\.\\d{1,3}\\.\\d{1,3}\\.\\d{1,3}\\b\", 'IPADDRESS', message)\n",
    "        message = re.sub(r\"\\b0x[0-9A-F]+\\b\", 'HEXCODE', message)\n",
    "        message = re.sub(r\"\\b\\d{1,3}\\:\\d{1,2}\\:\\d{1,2}\\b\", 'TIME', message)\n",
    "        message = re.sub(r\" \\b\\d{1,3} \\b\", 'NUMBER', message)\n",
    "        # Removing characters apart from alphabets\n",
    "        message = re.sub('([^A-Za-z ])+', ' ', message)\n",
    "        # Removing words less than 3 characters\n",
    "        message = re.sub(r'(\\b.{1,2}\\s)+', ' ', message)\n",
    "    except:\n",
    "        print(message)\n",
    "    \n",
    "    \n",
    "    return message"
   ]
  },
  {
   "cell_type": "code",
   "execution_count": 12,
   "metadata": {},
   "outputs": [
    {
     "output_type": "execute_result",
     "data": {
      "text/plain": [
       "             Date      Time Hostname  \\\n",
       "22203  2020-01-12  01:56:43   combo    \n",
       "3499   2019-08-06  07:23:59   combo    \n",
       "1204   2019-06-22  03:17:46   combo    \n",
       "21681  2019-12-09  09:48:09   combo    \n",
       "4812   2019-09-07  04:23:29   combo    \n",
       "16334  2019-11-29  06:07:08   combo    \n",
       "7977   2019-11-05  06:43:16   combo    \n",
       "2394   2019-07-17  06:14:36   combo    \n",
       "282    2019-06-09  10:07:21   combo    \n",
       "10492  2019-11-21  00:21:37   combo    \n",
       "\n",
       "                                                 Message  Severity  \\\n",
       "22203  connection from IPADDRESS afontenayssb abo wan...         0   \n",
       "3499       connection from IPADDRESS sat aug NUMBERTIME          0   \n",
       "1204   authentication failure logname uid euid tty no...         1   \n",
       "21681                    removing device node udev vcsa          0   \n",
       "4812   connection from IPADDRESS mail systemsevolutio...         0   \n",
       "16334                 out  memory killed process  httpd          1   \n",
       "7977   connection from IPADDRESS dslb pools arcor  ne...         0   \n",
       "2394   connection from IPADDRESS aml sfh adsl wanadoo...         0   \n",
       "282              listening  ipv interface eth IPADDRESS          0   \n",
       "10492                 out  memory killed process  httpd          1   \n",
       "\n",
       "              Process      PID  User             IP  Len  \n",
       "22203            ftpd  [17129]  root  82.121.80.235  109  \n",
       "3499             ftpd  [10170]  root  211.107.232.1   61  \n",
       "1204   sshd(pam_unix)  [16218]  root      127.0.0.1  111  \n",
       "21681            udev  [16093]  root      127.0.0.1   34  \n",
       "4812             ftpd   [4273]  root  69.15.163.251   87  \n",
       "16334          kernel        0  root      127.0.0.1   43  \n",
       "7977             ftpd  [11348]  root   84.57.172.16   99  \n",
       "2394             ftpd  [23585]  root  83.116.207.11   90  \n",
       "282             named   [2275]  root  63.126.79.125   53  \n",
       "10492          kernel        0  root      127.0.0.1   44  "
      ],
      "text/html": "<div>\n<style scoped>\n    .dataframe tbody tr th:only-of-type {\n        vertical-align: middle;\n    }\n\n    .dataframe tbody tr th {\n        vertical-align: top;\n    }\n\n    .dataframe thead th {\n        text-align: right;\n    }\n</style>\n<table border=\"1\" class=\"dataframe\">\n  <thead>\n    <tr style=\"text-align: right;\">\n      <th></th>\n      <th>Date</th>\n      <th>Time</th>\n      <th>Hostname</th>\n      <th>Message</th>\n      <th>Severity</th>\n      <th>Process</th>\n      <th>PID</th>\n      <th>User</th>\n      <th>IP</th>\n      <th>Len</th>\n    </tr>\n  </thead>\n  <tbody>\n    <tr>\n      <th>22203</th>\n      <td>2020-01-12</td>\n      <td>01:56:43</td>\n      <td>combo</td>\n      <td>connection from IPADDRESS afontenayssb abo wan...</td>\n      <td>0</td>\n      <td>ftpd</td>\n      <td>[17129]</td>\n      <td>root</td>\n      <td>82.121.80.235</td>\n      <td>109</td>\n    </tr>\n    <tr>\n      <th>3499</th>\n      <td>2019-08-06</td>\n      <td>07:23:59</td>\n      <td>combo</td>\n      <td>connection from IPADDRESS sat aug NUMBERTIME</td>\n      <td>0</td>\n      <td>ftpd</td>\n      <td>[10170]</td>\n      <td>root</td>\n      <td>211.107.232.1</td>\n      <td>61</td>\n    </tr>\n    <tr>\n      <th>1204</th>\n      <td>2019-06-22</td>\n      <td>03:17:46</td>\n      <td>combo</td>\n      <td>authentication failure logname uid euid tty no...</td>\n      <td>1</td>\n      <td>sshd(pam_unix)</td>\n      <td>[16218]</td>\n      <td>root</td>\n      <td>127.0.0.1</td>\n      <td>111</td>\n    </tr>\n    <tr>\n      <th>21681</th>\n      <td>2019-12-09</td>\n      <td>09:48:09</td>\n      <td>combo</td>\n      <td>removing device node udev vcsa</td>\n      <td>0</td>\n      <td>udev</td>\n      <td>[16093]</td>\n      <td>root</td>\n      <td>127.0.0.1</td>\n      <td>34</td>\n    </tr>\n    <tr>\n      <th>4812</th>\n      <td>2019-09-07</td>\n      <td>04:23:29</td>\n      <td>combo</td>\n      <td>connection from IPADDRESS mail systemsevolutio...</td>\n      <td>0</td>\n      <td>ftpd</td>\n      <td>[4273]</td>\n      <td>root</td>\n      <td>69.15.163.251</td>\n      <td>87</td>\n    </tr>\n    <tr>\n      <th>16334</th>\n      <td>2019-11-29</td>\n      <td>06:07:08</td>\n      <td>combo</td>\n      <td>out  memory killed process  httpd</td>\n      <td>1</td>\n      <td>kernel</td>\n      <td>0</td>\n      <td>root</td>\n      <td>127.0.0.1</td>\n      <td>43</td>\n    </tr>\n    <tr>\n      <th>7977</th>\n      <td>2019-11-05</td>\n      <td>06:43:16</td>\n      <td>combo</td>\n      <td>connection from IPADDRESS dslb pools arcor  ne...</td>\n      <td>0</td>\n      <td>ftpd</td>\n      <td>[11348]</td>\n      <td>root</td>\n      <td>84.57.172.16</td>\n      <td>99</td>\n    </tr>\n    <tr>\n      <th>2394</th>\n      <td>2019-07-17</td>\n      <td>06:14:36</td>\n      <td>combo</td>\n      <td>connection from IPADDRESS aml sfh adsl wanadoo...</td>\n      <td>0</td>\n      <td>ftpd</td>\n      <td>[23585]</td>\n      <td>root</td>\n      <td>83.116.207.11</td>\n      <td>90</td>\n    </tr>\n    <tr>\n      <th>282</th>\n      <td>2019-06-09</td>\n      <td>10:07:21</td>\n      <td>combo</td>\n      <td>listening  ipv interface eth IPADDRESS</td>\n      <td>0</td>\n      <td>named</td>\n      <td>[2275]</td>\n      <td>root</td>\n      <td>63.126.79.125</td>\n      <td>53</td>\n    </tr>\n    <tr>\n      <th>10492</th>\n      <td>2019-11-21</td>\n      <td>00:21:37</td>\n      <td>combo</td>\n      <td>out  memory killed process  httpd</td>\n      <td>1</td>\n      <td>kernel</td>\n      <td>0</td>\n      <td>root</td>\n      <td>127.0.0.1</td>\n      <td>44</td>\n    </tr>\n  </tbody>\n</table>\n</div>"
     },
     "metadata": {},
     "execution_count": 12
    }
   ],
   "source": [
    "df['Message'] = df['Message'].apply(clean_content)\n",
    "df.sample(10)"
   ]
  },
  {
   "cell_type": "code",
   "execution_count": 13,
   "metadata": {},
   "outputs": [
    {
     "output_type": "execute_result",
     "data": {
      "text/plain": [
       "             Date      Time Hostname  \\\n",
       "16022  2019-11-29  04:09:26   combo    \n",
       "5587   2019-09-22  22:41:34   combo    \n",
       "12561  2019-11-22  09:26:08   combo    \n",
       "14406  2019-11-24  19:50:20   combo    \n",
       "22474  2020-01-14  16:54:44   combo    \n",
       "10519  2019-11-21  00:31:18   combo    \n",
       "10329  2019-11-20  22:40:50   combo    \n",
       "22708  2020-01-16  12:54:14   combo    \n",
       "6524   2019-10-04  06:40:50   combo    \n",
       "21491  2019-12-08  14:10:58   combo    \n",
       "\n",
       "                                                 Message  Severity  Process  \\\n",
       "16022                 out  memory killed process  httpd          1       28   \n",
       "5587   connection from IPADDRESS club internet    thu...         0       17   \n",
       "12561                                      wake  HEXCODE         1       28   \n",
       "14406                out  memory killed process  python          1       28   \n",
       "22474                            check pass user unknown         0       61   \n",
       "10519                 out  memory killed process  httpd          1       28   \n",
       "10329                 out  memory killed process  httpd          1       28   \n",
       "22708  authentication failure logname uid euid tty no...         1       61   \n",
       "6524                             check pass user unknown         0       61   \n",
       "21491  authentication failure logname uid euid tty no...         1       61   \n",
       "\n",
       "           PID  User             IP  Len  \n",
       "16022        0  root      127.0.0.1   43  \n",
       "5587   [14495]  root  212.194.100.8   99  \n",
       "12561        0  root      127.0.0.1   32  \n",
       "14406        0  root      127.0.0.1   45  \n",
       "22474  [25753]  root      127.0.0.1   24  \n",
       "10519        0  root      127.0.0.1   44  \n",
       "10329        0  root      127.0.0.1   44  \n",
       "22708   [2899]  root  61.178.20.170   96  \n",
       "6524   [22918]  root      127.0.0.1   24  \n",
       "21491  [11660]  root      127.0.0.1  117  "
      ],
      "text/html": "<div>\n<style scoped>\n    .dataframe tbody tr th:only-of-type {\n        vertical-align: middle;\n    }\n\n    .dataframe tbody tr th {\n        vertical-align: top;\n    }\n\n    .dataframe thead th {\n        text-align: right;\n    }\n</style>\n<table border=\"1\" class=\"dataframe\">\n  <thead>\n    <tr style=\"text-align: right;\">\n      <th></th>\n      <th>Date</th>\n      <th>Time</th>\n      <th>Hostname</th>\n      <th>Message</th>\n      <th>Severity</th>\n      <th>Process</th>\n      <th>PID</th>\n      <th>User</th>\n      <th>IP</th>\n      <th>Len</th>\n    </tr>\n  </thead>\n  <tbody>\n    <tr>\n      <th>16022</th>\n      <td>2019-11-29</td>\n      <td>04:09:26</td>\n      <td>combo</td>\n      <td>out  memory killed process  httpd</td>\n      <td>1</td>\n      <td>28</td>\n      <td>0</td>\n      <td>root</td>\n      <td>127.0.0.1</td>\n      <td>43</td>\n    </tr>\n    <tr>\n      <th>5587</th>\n      <td>2019-09-22</td>\n      <td>22:41:34</td>\n      <td>combo</td>\n      <td>connection from IPADDRESS club internet    thu...</td>\n      <td>0</td>\n      <td>17</td>\n      <td>[14495]</td>\n      <td>root</td>\n      <td>212.194.100.8</td>\n      <td>99</td>\n    </tr>\n    <tr>\n      <th>12561</th>\n      <td>2019-11-22</td>\n      <td>09:26:08</td>\n      <td>combo</td>\n      <td>wake  HEXCODE</td>\n      <td>1</td>\n      <td>28</td>\n      <td>0</td>\n      <td>root</td>\n      <td>127.0.0.1</td>\n      <td>32</td>\n    </tr>\n    <tr>\n      <th>14406</th>\n      <td>2019-11-24</td>\n      <td>19:50:20</td>\n      <td>combo</td>\n      <td>out  memory killed process  python</td>\n      <td>1</td>\n      <td>28</td>\n      <td>0</td>\n      <td>root</td>\n      <td>127.0.0.1</td>\n      <td>45</td>\n    </tr>\n    <tr>\n      <th>22474</th>\n      <td>2020-01-14</td>\n      <td>16:54:44</td>\n      <td>combo</td>\n      <td>check pass user unknown</td>\n      <td>0</td>\n      <td>61</td>\n      <td>[25753]</td>\n      <td>root</td>\n      <td>127.0.0.1</td>\n      <td>24</td>\n    </tr>\n    <tr>\n      <th>10519</th>\n      <td>2019-11-21</td>\n      <td>00:31:18</td>\n      <td>combo</td>\n      <td>out  memory killed process  httpd</td>\n      <td>1</td>\n      <td>28</td>\n      <td>0</td>\n      <td>root</td>\n      <td>127.0.0.1</td>\n      <td>44</td>\n    </tr>\n    <tr>\n      <th>10329</th>\n      <td>2019-11-20</td>\n      <td>22:40:50</td>\n      <td>combo</td>\n      <td>out  memory killed process  httpd</td>\n      <td>1</td>\n      <td>28</td>\n      <td>0</td>\n      <td>root</td>\n      <td>127.0.0.1</td>\n      <td>44</td>\n    </tr>\n    <tr>\n      <th>22708</th>\n      <td>2020-01-16</td>\n      <td>12:54:14</td>\n      <td>combo</td>\n      <td>authentication failure logname uid euid tty no...</td>\n      <td>1</td>\n      <td>61</td>\n      <td>[2899]</td>\n      <td>root</td>\n      <td>61.178.20.170</td>\n      <td>96</td>\n    </tr>\n    <tr>\n      <th>6524</th>\n      <td>2019-10-04</td>\n      <td>06:40:50</td>\n      <td>combo</td>\n      <td>check pass user unknown</td>\n      <td>0</td>\n      <td>61</td>\n      <td>[22918]</td>\n      <td>root</td>\n      <td>127.0.0.1</td>\n      <td>24</td>\n    </tr>\n    <tr>\n      <th>21491</th>\n      <td>2019-12-08</td>\n      <td>14:10:58</td>\n      <td>combo</td>\n      <td>authentication failure logname uid euid tty no...</td>\n      <td>1</td>\n      <td>61</td>\n      <td>[11660]</td>\n      <td>root</td>\n      <td>127.0.0.1</td>\n      <td>117</td>\n    </tr>\n  </tbody>\n</table>\n</div>"
     },
     "metadata": {},
     "execution_count": 13
    }
   ],
   "source": [
    "# Label encoding\n",
    "\n",
    "from sklearn.preprocessing import LabelEncoder\n",
    "\n",
    "le = LabelEncoder()\n",
    "df['Process'] = le.fit_transform(df['Process'])\n",
    "\n",
    "df.sample(10)"
   ]
  },
  {
   "cell_type": "code",
   "execution_count": null,
   "metadata": {},
   "outputs": [],
   "source": [
    "import nltk\n",
    "from nltk.tokenize import word_tokenize\n",
    "from sklearn.feature_extraction.text import TfidfVectorizer\n",
    "from sklearn.metrics.pairwise import cosine_similarity"
   ]
  },
  {
   "cell_type": "code",
   "execution_count": null,
   "metadata": {},
   "outputs": [],
   "source": [
    "from typing import List\n",
    "def get_vectors(texts) -> List:\n",
    "    text = [t for t in texts]\n",
    "    my_tfidf_vectorizer = TfidfVectorizer()\n",
    "    my_tfidf_vectorizer.fit(text)\n",
    "\n",
    "    return my_tfidf_vectorizer.transform(text).toarray()\n",
    "\n",
    "def get_cosign_sim(received_vectors):\n",
    "    return cosine_similarity(received_vectors)"
   ]
  },
  {
   "cell_type": "code",
   "execution_count": null,
   "metadata": {},
   "outputs": [],
   "source": [
    "vectors = get_vectors(df['Message'])\n",
    "vectors"
   ]
  },
  {
   "cell_type": "code",
   "execution_count": null,
   "metadata": {},
   "outputs": [],
   "source": [
    "vectors.shape"
   ]
  },
  {
   "cell_type": "code",
   "execution_count": null,
   "metadata": {},
   "outputs": [],
   "source": [
    "print(vectors[0][100:300])"
   ]
  },
  {
   "cell_type": "code",
   "execution_count": null,
   "metadata": {},
   "outputs": [],
   "source": [
    "type(vectors)"
   ]
  },
  {
   "cell_type": "code",
   "execution_count": null,
   "metadata": {},
   "outputs": [],
   "source": [
    "# Checking the similarities amoung vectors\n",
    "similarity = get_cosign_sim(vectors)\n",
    "similarity"
   ]
  },
  {
   "cell_type": "code",
   "execution_count": null,
   "metadata": {},
   "outputs": [],
   "source": [
    "# use PCA to reduce dimensionality from 6 to 2\n",
    "from sklearn.decomposition import PCA\n",
    "from sklearn.cluster import KMeans\n",
    "import matplotlib.pylab as plt\n",
    "plt.rcParams['figure.figsize'] = (12, 6)\n",
    "\n",
    "pca = PCA(n_components=2)\n",
    "cos_sim_pca = pca.fit_transform(similarity)\n",
    "retained_variance = pca.explained_variance_ratio_\n",
    "print(retained_variance)\n",
    "cos_sim_pca"
   ]
  },
  {
   "cell_type": "code",
   "execution_count": null,
   "metadata": {},
   "outputs": [],
   "source": [
    "# Plot the texts as per similarity\n",
    "# n = cos_sim_pca.shape[0]\n",
    "# fig, ax = plt.subplots()\n",
    "# # marker_colors = df_dt['Severity'].replace([0, 1, 2],['g', 'r', 'b'])\n",
    "\n",
    "# for i in range(n):\n",
    "#     x = cos_sim_pca[i, 0]\n",
    "#     y = cos_sim_pca[i, 1]\n",
    "#     # ax.scatter(x, y, s=10, c=marker_colors[i])\n",
    "#     ax.scatter(x, y, s=10)\n",
    "\n",
    "# plt.show()"
   ]
  },
  {
   "cell_type": "code",
   "execution_count": null,
   "metadata": {},
   "outputs": [],
   "source": [
    "n = cos_sim_pca.shape[0]\n",
    "fig, ax = plt.subplots()\n",
    "marker_colors = df_dt['Severity'].replace([0, 1, 2],['g', 'r', 'b'])\n",
    "\n",
    "for i in range(5000, 10000):\n",
    "    x = cos_sim_pca[i, 0]\n",
    "    y = cos_sim_pca[i, 1]\n",
    "    ax.scatter(x, y, s=10, c=marker_colors[i])\n",
    "\n",
    "plt.show()"
   ]
  },
  {
   "cell_type": "code",
   "execution_count": null,
   "metadata": {},
   "outputs": [],
   "source": [
    "plt.scatter(cos_sim_pca[:, 0], cos_sim_pca[:, 1], c=marker_colors.array, s=10)\n",
    "plt.show()"
   ]
  },
  {
   "cell_type": "code",
   "execution_count": null,
   "metadata": {},
   "outputs": [],
   "source": [
    "cos_sim_pca[:, 0]"
   ]
  },
  {
   "cell_type": "code",
   "execution_count": null,
   "metadata": {},
   "outputs": [],
   "source": [
    "cos_sim_pca[:, 1]"
   ]
  },
  {
   "cell_type": "code",
   "execution_count": null,
   "metadata": {},
   "outputs": [],
   "source": [
    "marker_colors = df_dt['Severity'].replace([0, 1, 2],['g', 'r', 'b'])\n"
   ]
  },
  {
   "cell_type": "code",
   "execution_count": null,
   "metadata": {},
   "outputs": [],
   "source": [
    "marker_colors.array"
   ]
  },
  {
   "cell_type": "code",
   "execution_count": null,
   "metadata": {},
   "outputs": [],
   "source": [
    "# use PCA to reduce dimensionality from 6 to 2\n",
    "from sklearn.decomposition import PCA\n",
    "from sklearn.cluster import KMeans\n",
    "import matplotlib.pylab as plt\n",
    "plt.rcParams['figure.figsize'] = (12, 6)\n",
    "\n",
    "pca = PCA(n_components=3)\n",
    "cos_sim_pca_3d = pca.fit_transform(similarity)\n",
    "retained_variance = pca.explained_variance_ratio_\n",
    "print(retained_variance)\n",
    "cos_sim_pca_3d"
   ]
  },
  {
   "cell_type": "code",
   "execution_count": null,
   "metadata": {},
   "outputs": [],
   "source": [
    "from mpl_toolkits import mplot3d\n",
    "# Creating figure\n",
    "fig = plt.figure(figsize = (12, 7))\n",
    "ax = plt.axes(projection =\"3d\")\n",
    " \n",
    "# Creating plot\n",
    "ax.scatter3D(cos_sim_pca_3d[:, 0], cos_sim_pca_3d[:, 1], cos_sim_pca_3d[:, 2], c=marker_colors.array, s=10)\n",
    "\n",
    "for angle in range(0, 360):\n",
    "    ax.view_init(30, angle)\n",
    "    plt.draw()\n",
    "    plt.pause(.001)\n",
    "    \n",
    "plt.show()\n",
    "\n"
   ]
  },
  {
   "cell_type": "code",
   "execution_count": null,
   "metadata": {},
   "outputs": [],
   "source": []
  }
 ]
}