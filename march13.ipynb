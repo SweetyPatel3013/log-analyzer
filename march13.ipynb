{
 "cells": [
  {
   "cell_type": "code",
   "execution_count": 1,
   "metadata": {},
   "outputs": [],
   "source": [
    "import numpy as np\r\n",
    "import pandas as pd"
   ]
  },
  {
   "cell_type": "code",
   "execution_count": 2,
   "metadata": {},
   "outputs": [
    {
     "data": {
      "text/html": "<div>\n<style scoped>\n    .dataframe tbody tr th:only-of-type {\n        vertical-align: middle;\n    }\n\n    .dataframe tbody tr th {\n        vertical-align: top;\n    }\n\n    .dataframe thead th {\n        text-align: right;\n    }\n</style>\n<table border=\"1\" class=\"dataframe\">\n  <thead>\n    <tr style=\"text-align: right;\">\n      <th></th>\n      <th>Date</th>\n      <th>Time</th>\n      <th>Hostname</th>\n      <th>Message</th>\n      <th>Severity</th>\n      <th>Process</th>\n      <th>PID</th>\n      <th>User</th>\n      <th>IP</th>\n      <th>Len</th>\n    </tr>\n  </thead>\n  <tbody>\n    <tr>\n      <th>0</th>\n      <td>2019-06-09</td>\n      <td>06:06:20</td>\n      <td>combo</td>\n      <td>restart.</td>\n      <td>0</td>\n      <td>syslogd 1.4.1</td>\n      <td>NaN</td>\n      <td>root</td>\n      <td>127.0.0.1</td>\n      <td>8</td>\n    </tr>\n    <tr>\n      <th>1</th>\n      <td>2019-06-09</td>\n      <td>06:06:20</td>\n      <td>combo</td>\n      <td>syslogd startup succeeded</td>\n      <td>0</td>\n      <td>syslog</td>\n      <td>NaN</td>\n      <td>root</td>\n      <td>127.0.0.1</td>\n      <td>25</td>\n    </tr>\n    <tr>\n      <th>2</th>\n      <td>2019-06-09</td>\n      <td>06:06:20</td>\n      <td>combo</td>\n      <td>klogd startup succeeded</td>\n      <td>0</td>\n      <td>syslog</td>\n      <td>NaN</td>\n      <td>root</td>\n      <td>127.0.0.1</td>\n      <td>23</td>\n    </tr>\n    <tr>\n      <th>3</th>\n      <td>2019-06-09</td>\n      <td>06:06:20</td>\n      <td>combo</td>\n      <td>klogd 1.4.1, log source = /proc/kmsg started.</td>\n      <td>0</td>\n      <td>kernel</td>\n      <td>NaN</td>\n      <td>root</td>\n      <td>127.0.0.1</td>\n      <td>45</td>\n    </tr>\n    <tr>\n      <th>4</th>\n      <td>2019-06-09</td>\n      <td>06:06:20</td>\n      <td>combo</td>\n      <td>Linux version 2.6.5-1.358 (bhcompile@bugs.buil...</td>\n      <td>0</td>\n      <td>kernel</td>\n      <td>NaN</td>\n      <td>root</td>\n      <td>127.0.0.1</td>\n      <td>143</td>\n    </tr>\n  </tbody>\n</table>\n</div>",
      "text/plain": "         Date      Time Hostname  \\\n0  2019-06-09  06:06:20   combo    \n1  2019-06-09  06:06:20   combo    \n2  2019-06-09  06:06:20   combo    \n3  2019-06-09  06:06:20   combo    \n4  2019-06-09  06:06:20   combo    \n\n                                             Message  Severity        Process  \\\n0                                           restart.         0  syslogd 1.4.1   \n1                          syslogd startup succeeded         0         syslog   \n2                            klogd startup succeeded         0         syslog   \n3      klogd 1.4.1, log source = /proc/kmsg started.         0         kernel   \n4  Linux version 2.6.5-1.358 (bhcompile@bugs.buil...         0         kernel   \n\n   PID  User         IP  Len  \n0  NaN  root  127.0.0.1    8  \n1  NaN  root  127.0.0.1   25  \n2  NaN  root  127.0.0.1   23  \n3  NaN  root  127.0.0.1   45  \n4  NaN  root  127.0.0.1  143  "
     },
     "execution_count": 2,
     "metadata": {},
     "output_type": "execute_result"
    }
   ],
   "source": [
    "df = pd.read_csv(r'./data/Linux_v2_2.csv')\r\n",
    "df.head()"
   ]
  },
  {
   "cell_type": "code",
   "execution_count": 3,
   "metadata": {},
   "outputs": [
    {
     "name": "stdout",
     "output_type": "stream",
     "text": [
      "<class 'pandas.core.frame.DataFrame'>\n",
      "RangeIndex: 25706 entries, 0 to 25705\n",
      "Data columns (total 10 columns):\n",
      " #   Column    Non-Null Count  Dtype \n",
      "---  ------    --------------  ----- \n",
      " 0   Date      25706 non-null  object\n",
      " 1   Time      25706 non-null  object\n",
      " 2   Hostname  25706 non-null  object\n",
      " 3   Message   25613 non-null  object\n",
      " 4   Severity  25706 non-null  int64 \n",
      " 5   Process   25688 non-null  object\n",
      " 6   PID       11176 non-null  object\n",
      " 7   User      25706 non-null  object\n",
      " 8   IP        25706 non-null  object\n",
      " 9   Len       25706 non-null  int64 \n",
      "dtypes: int64(2), object(8)\n",
      "memory usage: 2.0+ MB\n"
     ]
    }
   ],
   "source": [
    "df.info()"
   ]
  },
  {
   "cell_type": "code",
   "execution_count": 4,
   "metadata": {},
   "outputs": [
    {
     "name": "stdout",
     "output_type": "stream",
     "text": [
      "<class 'pandas.core.frame.DataFrame'>\n",
      "RangeIndex: 25706 entries, 0 to 25705\n",
      "Data columns (total 10 columns):\n",
      " #   Column    Non-Null Count  Dtype         \n",
      "---  ------    --------------  -----         \n",
      " 0   Date      25706 non-null  datetime64[ns]\n",
      " 1   Time      25706 non-null  object        \n",
      " 2   Hostname  25706 non-null  object        \n",
      " 3   Message   25613 non-null  object        \n",
      " 4   Severity  25706 non-null  int64         \n",
      " 5   Process   25688 non-null  object        \n",
      " 6   PID       11176 non-null  object        \n",
      " 7   User      25706 non-null  object        \n",
      " 8   IP        25706 non-null  object        \n",
      " 9   Len       25706 non-null  int64         \n",
      "dtypes: datetime64[ns](1), int64(2), object(7)\n",
      "memory usage: 2.0+ MB\n"
     ]
    }
   ],
   "source": [
    "# convert the 'Date' column to datetime format\r\n",
    "df['Date'] = df['Date'].astype('datetime64[ns]')\r\n",
    "df.info()"
   ]
  },
  {
   "cell_type": "code",
   "execution_count": 5,
   "metadata": {},
   "outputs": [
    {
     "name": "stdout",
     "output_type": "stream",
     "text": [
      "(25706, 10)\n"
     ]
    }
   ],
   "source": [
    "print(df.shape)"
   ]
  },
  {
   "cell_type": "markdown",
   "metadata": {},
   "source": [
    "## Handling Null values"
   ]
  },
  {
   "cell_type": "code",
   "execution_count": 6,
   "metadata": {},
   "outputs": [
    {
     "data": {
      "text/plain": "Date            0\nTime            0\nHostname        0\nMessage        93\nSeverity        0\nProcess        18\nPID         14530\nUser            0\nIP              0\nLen             0\ndtype: int64"
     },
     "execution_count": 6,
     "metadata": {},
     "output_type": "execute_result"
    }
   ],
   "source": [
    "df.isnull().sum()"
   ]
  },
  {
   "cell_type": "code",
   "execution_count": 7,
   "metadata": {},
   "outputs": [],
   "source": [
    "df.dropna(subset=['Message'], inplace=True)"
   ]
  },
  {
   "cell_type": "markdown",
   "metadata": {},
   "source": [
    "## Data Cleaning"
   ]
  },
  {
   "cell_type": "code",
   "execution_count": 8,
   "metadata": {},
   "outputs": [],
   "source": [
    "import re\r\n",
    "import nltk\r\n",
    "from nltk.corpus import stopwords\r\n",
    "from nltk.stem import PorterStemmer\r\n",
    "\r\n",
    "en_stopwords = set(stopwords.words('english')) \r\n",
    "\r\n",
    "def clean_content(message: str):\r\n",
    "\r\n",
    "    try:\r\n",
    "        # Converting content to lowercase\r\n",
    "        message = message.lower()\r\n",
    "        # Replace date time string to word TIMESTAMP\r\n",
    "        message = re.sub(r\"[a-z]{3} [a-z]{3} [0-9]{2} [0-9]{2}:[0-9]{2}:[0-9]{2} [0-9]{4}\", 'TIMESTAMP', message)\r\n",
    "        # Replace ip-address string to word IPADDRESS\r\n",
    "        message = re.sub(r\"\\b\\d{1,3}\\.\\d{1,3}\\.\\d{1,3}\\.\\d{1,3}\\b\", 'IPADDRESS', message)\r\n",
    "        # Replace hexa decimal string to word HEXCODE\r\n",
    "        message = re.sub(r\"\\b0x[0-9A-F]+\\b\", 'HEXCODE', message)\r\n",
    "        # Replace numbers to word NUMBER\r\n",
    "        message = re.sub(r\"\\b\\d{1,3}\\b\", 'NUMBER', message)\r\n",
    "        # Replace URL with word URLORDOMAIN\r\n",
    "        message = re.sub(r'(?:https?:\\/\\/)?([a-zA-Z][a-zA-Z0-9._\\-]+.[a-zA-Z0-9]+(\\.[a-zA-Z0-9._\\-]{2,3})+)', 'URLORDOMAIN', message)\r\n",
    "        # Remove characters apart from alphabets\r\n",
    "        message = re.sub('([^A-Za-z ])+', ' ', message)\r\n",
    "        # Remove words less than 3 characters\r\n",
    "        message = re.sub(r'(\\b.{1,2}\\s)+', ' ', message)\r\n",
    "        # Remove mulitiple whitespace\r\n",
    "        message = re.sub(r' +', ' ', message)\r\n",
    "\r\n",
    "        # Removing stopwords & perform stemming\r\n",
    "        porter = PorterStemmer()\r\n",
    "\r\n",
    "        clean_str = []\r\n",
    "        word_tokens = nltk.word_tokenize(message)\r\n",
    "        for word in word_tokens: \r\n",
    "            if word not in en_stopwords:\r\n",
    "                clean_str.append(porter.stem(word))\r\n",
    "        \r\n",
    "        message = ' '.join(clean_str)\r\n",
    "\r\n",
    "        \r\n",
    "\r\n",
    "    except:\r\n",
    "        print('Error')\r\n",
    "    \r\n",
    "    \r\n",
    "    return message"
   ]
  },
  {
   "cell_type": "code",
   "execution_count": 9,
   "metadata": {},
   "outputs": [
    {
     "data": {
      "text/html": "<div>\n<style scoped>\n    .dataframe tbody tr th:only-of-type {\n        vertical-align: middle;\n    }\n\n    .dataframe tbody tr th {\n        vertical-align: top;\n    }\n\n    .dataframe thead th {\n        text-align: right;\n    }\n</style>\n<table border=\"1\" class=\"dataframe\">\n  <thead>\n    <tr style=\"text-align: right;\">\n      <th></th>\n      <th>Date</th>\n      <th>Time</th>\n      <th>Hostname</th>\n      <th>Message</th>\n      <th>Severity</th>\n      <th>Process</th>\n      <th>PID</th>\n      <th>User</th>\n      <th>IP</th>\n      <th>Len</th>\n    </tr>\n  </thead>\n  <tbody>\n    <tr>\n      <th>18486</th>\n      <td>2019-12-03</td>\n      <td>21:54:08</td>\n      <td>combo</td>\n      <td>memori kill process python</td>\n      <td>1</td>\n      <td>kernel</td>\n      <td>NaN</td>\n      <td>root</td>\n      <td>127.0.0.1</td>\n      <td>45</td>\n    </tr>\n    <tr>\n      <th>3388</th>\n      <td>2019-08-02</td>\n      <td>11:24:51</td>\n      <td>combo</td>\n      <td>check pass user unknown</td>\n      <td>0</td>\n      <td>sshd(pam_unix)</td>\n      <td>[25508]</td>\n      <td>root</td>\n      <td>127.0.0.1</td>\n      <td>24</td>\n    </tr>\n    <tr>\n      <th>3530</th>\n      <td>2019-08-07</td>\n      <td>06:52:07</td>\n      <td>combo</td>\n      <td>connect ipaddress urlordomain sun aug number n...</td>\n      <td>0</td>\n      <td>ftpd</td>\n      <td>[16260]</td>\n      <td>root</td>\n      <td>82.53.83.190</td>\n      <td>96</td>\n    </tr>\n    <tr>\n      <th>17804</th>\n      <td>2019-12-03</td>\n      <td>10:46:21</td>\n      <td>combo</td>\n      <td>memori kill process httpd</td>\n      <td>1</td>\n      <td>kernel</td>\n      <td>NaN</td>\n      <td>root</td>\n      <td>127.0.0.1</td>\n      <td>44</td>\n    </tr>\n    <tr>\n      <th>939</th>\n      <td>2019-06-13</td>\n      <td>20:13:11</td>\n      <td>combo</td>\n      <td>authent failur lognam uid number euid number t...</td>\n      <td>1</td>\n      <td>sshd(pam_unix)</td>\n      <td>[17428]</td>\n      <td>root</td>\n      <td>127.0.0.1</td>\n      <td>97</td>\n    </tr>\n    <tr>\n      <th>14241</th>\n      <td>2019-11-24</td>\n      <td>06:15:28</td>\n      <td>combo</td>\n      <td>memori kill process python</td>\n      <td>1</td>\n      <td>kernel</td>\n      <td>NaN</td>\n      <td>root</td>\n      <td>127.0.0.1</td>\n      <td>44</td>\n    </tr>\n    <tr>\n      <th>16842</th>\n      <td>2019-11-30</td>\n      <td>07:05:36</td>\n      <td>combo</td>\n      <td>memori kill process httpd</td>\n      <td>1</td>\n      <td>kernel</td>\n      <td>NaN</td>\n      <td>root</td>\n      <td>127.0.0.1</td>\n      <td>43</td>\n    </tr>\n    <tr>\n      <th>10522</th>\n      <td>2019-11-21</td>\n      <td>00:31:40</td>\n      <td>combo</td>\n      <td>memori kill process httpd</td>\n      <td>1</td>\n      <td>kernel</td>\n      <td>NaN</td>\n      <td>root</td>\n      <td>127.0.0.1</td>\n      <td>44</td>\n    </tr>\n    <tr>\n      <th>11659</th>\n      <td>2019-11-21</td>\n      <td>09:33:32</td>\n      <td>combo</td>\n      <td>authent failur lognam uid number euid number t...</td>\n      <td>1</td>\n      <td>sshd(pam_unix)</td>\n      <td>[28386]</td>\n      <td>root</td>\n      <td>203.251.225.152</td>\n      <td>98</td>\n    </tr>\n    <tr>\n      <th>5297</th>\n      <td>2019-09-19</td>\n      <td>05:57:41</td>\n      <td>combo</td>\n      <td>charg number unknown</td>\n      <td>0</td>\n      <td>apmd</td>\n      <td>[1748]</td>\n      <td>root</td>\n      <td>127.0.0.1</td>\n      <td>27</td>\n    </tr>\n  </tbody>\n</table>\n</div>",
      "text/plain": "            Date      Time Hostname  \\\n18486 2019-12-03  21:54:08   combo    \n3388  2019-08-02  11:24:51   combo    \n3530  2019-08-07  06:52:07   combo    \n17804 2019-12-03  10:46:21   combo    \n939   2019-06-13  20:13:11   combo    \n14241 2019-11-24  06:15:28   combo    \n16842 2019-11-30  07:05:36   combo    \n10522 2019-11-21  00:31:40   combo    \n11659 2019-11-21  09:33:32   combo    \n5297  2019-09-19  05:57:41   combo    \n\n                                                 Message  Severity  \\\n18486                         memori kill process python         1   \n3388                             check pass user unknown         0   \n3530   connect ipaddress urlordomain sun aug number n...         0   \n17804                          memori kill process httpd         1   \n939    authent failur lognam uid number euid number t...         1   \n14241                         memori kill process python         1   \n16842                          memori kill process httpd         1   \n10522                          memori kill process httpd         1   \n11659  authent failur lognam uid number euid number t...         1   \n5297                                charg number unknown         0   \n\n              Process      PID  User               IP  Len  \n18486          kernel      NaN  root        127.0.0.1   45  \n3388   sshd(pam_unix)  [25508]  root        127.0.0.1   24  \n3530             ftpd  [16260]  root     82.53.83.190   96  \n17804          kernel      NaN  root        127.0.0.1   44  \n939    sshd(pam_unix)  [17428]  root        127.0.0.1   97  \n14241          kernel      NaN  root        127.0.0.1   44  \n16842          kernel      NaN  root        127.0.0.1   43  \n10522          kernel      NaN  root        127.0.0.1   44  \n11659  sshd(pam_unix)  [28386]  root  203.251.225.152   98  \n5297             apmd   [1748]  root        127.0.0.1   27  "
     },
     "execution_count": 9,
     "metadata": {},
     "output_type": "execute_result"
    }
   ],
   "source": [
    "df['Message'] = df['Message'].apply(clean_content)\r\n",
    "df.sample(10)"
   ]
  },
  {
   "cell_type": "markdown",
   "metadata": {},
   "source": [
    "### Examples"
   ]
  },
  {
   "cell_type": "code",
   "execution_count": 10,
   "metadata": {},
   "outputs": [
    {
     "data": {
      "text/plain": "'connect ipaddress timestamp'"
     },
     "execution_count": 10,
     "metadata": {},
     "output_type": "execute_result"
    }
   ],
   "source": [
    "df.loc[22339]['Message']"
   ]
  },
  {
   "cell_type": "code",
   "execution_count": 11,
   "metadata": {},
   "outputs": [
    {
     "data": {
      "text/plain": "'user unknown time number second timestamp'"
     },
     "execution_count": 11,
     "metadata": {},
     "output_type": "execute_result"
    }
   ],
   "source": [
    "message = 'User unknown timed out after 900 seconds at Sat Jun 18 02:23:10 2005 '\r\n",
    "clean_content(message)"
   ]
  },
  {
   "cell_type": "code",
   "execution_count": 12,
   "metadata": {},
   "outputs": [
    {
     "data": {
      "text/plain": "'User unknown timed out after 900 seconds at TIMESTAMP '"
     },
     "execution_count": 12,
     "metadata": {},
     "output_type": "execute_result"
    }
   ],
   "source": [
    "message = 'User unknown timed out after 900 seconds at Sat Jun 18 02:23:10 2005 '\r\n",
    "re.sub(r\"[A-Z][a-z]{2} [A-Z][a-z]{2} [0-9]{2} [0-9]{2}:[0-9]{2}:[0-9]{2} [0-9]{4}\", 'TIMESTAMP', message)"
   ]
  },
  {
   "cell_type": "markdown",
   "metadata": {},
   "source": [
    "### Remove duplicate messages"
   ]
  },
  {
   "cell_type": "code",
   "execution_count": 15,
   "metadata": {},
   "outputs": [
    {
     "data": {
      "text/html": "<div>\n<style scoped>\n    .dataframe tbody tr th:only-of-type {\n        vertical-align: middle;\n    }\n\n    .dataframe tbody tr th {\n        vertical-align: top;\n    }\n\n    .dataframe thead th {\n        text-align: right;\n    }\n</style>\n<table border=\"1\" class=\"dataframe\">\n  <thead>\n    <tr style=\"text-align: right;\">\n      <th></th>\n      <th>Date</th>\n      <th>Time</th>\n      <th>Hostname</th>\n      <th>Message</th>\n      <th>Severity</th>\n      <th>Process</th>\n      <th>PID</th>\n      <th>User</th>\n      <th>IP</th>\n      <th>Len</th>\n    </tr>\n  </thead>\n  <tbody>\n    <tr>\n      <th>23655</th>\n      <td>2020-01-26</td>\n      <td>12:22:14</td>\n      <td>combo</td>\n      <td>urlordomainb avc deni search pid number exe us...</td>\n      <td>1</td>\n      <td>kernel</td>\n      <td>NaN</td>\n      <td>root</td>\n      <td>127.0.0.1</td>\n      <td>195</td>\n    </tr>\n    <tr>\n      <th>7335</th>\n      <td>2019-10-23</td>\n      <td>12:40:02</td>\n      <td>combo</td>\n      <td>authent fail ipaddress urlordomain softwar cau...</td>\n      <td>1</td>\n      <td>klogind</td>\n      <td>[22519]</td>\n      <td>root</td>\n      <td>81.181.213.88</td>\n      <td>107</td>\n    </tr>\n    <tr>\n      <th>5992</th>\n      <td>2019-09-28</td>\n      <td>09:10:48</td>\n      <td>combo</td>\n      <td>bring interfac eth succeed</td>\n      <td>0</td>\n      <td>network</td>\n      <td>NaN</td>\n      <td>root</td>\n      <td>127.0.0.1</td>\n      <td>39</td>\n    </tr>\n    <tr>\n      <th>23954</th>\n      <td>2020-01-26</td>\n      <td>12:23:04</td>\n      <td>combo</td>\n      <td>urlordomainb avc deni name bind pid exe usr sb...</td>\n      <td>1</td>\n      <td>kernel</td>\n      <td>NaN</td>\n      <td>root</td>\n      <td>127.0.0.1</td>\n      <td>184</td>\n    </tr>\n    <tr>\n      <th>23684</th>\n      <td>2020-01-26</td>\n      <td>12:22:18</td>\n      <td>combo</td>\n      <td>urlordomainb syscal number exit number fefff c...</td>\n      <td>0</td>\n      <td>kernel</td>\n      <td>NaN</td>\n      <td>root</td>\n      <td>127.0.0.1</td>\n      <td>176</td>\n    </tr>\n    <tr>\n      <th>205</th>\n      <td>2019-06-09</td>\n      <td>06:06:34</td>\n      <td>combo</td>\n      <td>bluetooth hci socket layer initi</td>\n      <td>0</td>\n      <td>kernel</td>\n      <td>NaN</td>\n      <td>root</td>\n      <td>127.0.0.1</td>\n      <td>39</td>\n    </tr>\n    <tr>\n      <th>18696</th>\n      <td>2019-12-04</td>\n      <td>03:49:00</td>\n      <td>combo</td>\n      <td>clear page tabl f</td>\n      <td>1</td>\n      <td>kernel</td>\n      <td>NaN</td>\n      <td>root</td>\n      <td>127.0.0.1</td>\n      <td>41</td>\n    </tr>\n    <tr>\n      <th>35</th>\n      <td>2019-06-09</td>\n      <td>06:06:20</td>\n      <td>combo</td>\n      <td>selinux initi</td>\n      <td>0</td>\n      <td>kernel</td>\n      <td>NaN</td>\n      <td>root</td>\n      <td>127.0.0.1</td>\n      <td>23</td>\n    </tr>\n    <tr>\n      <th>8220</th>\n      <td>2019-11-10</td>\n      <td>16:00:31</td>\n      <td>combo</td>\n      <td>hda dma timeout retri</td>\n      <td>0</td>\n      <td>kernel</td>\n      <td>NaN</td>\n      <td>root</td>\n      <td>127.0.0.1</td>\n      <td>22</td>\n    </tr>\n    <tr>\n      <th>23792</th>\n      <td>2020-01-26</td>\n      <td>12:22:30</td>\n      <td>combo</td>\n      <td>urlordomainb avc deni read pid exe usr sbin ku...</td>\n      <td>1</td>\n      <td>kernel</td>\n      <td>NaN</td>\n      <td>root</td>\n      <td>127.0.0.1</td>\n      <td>206</td>\n    </tr>\n  </tbody>\n</table>\n</div>",
      "text/plain": "            Date      Time Hostname  \\\n23655 2020-01-26  12:22:14   combo    \n7335  2019-10-23  12:40:02   combo    \n5992  2019-09-28  09:10:48   combo    \n23954 2020-01-26  12:23:04   combo    \n23684 2020-01-26  12:22:18   combo    \n205   2019-06-09  06:06:34   combo    \n18696 2019-12-04  03:49:00   combo    \n35    2019-06-09  06:06:20   combo    \n8220  2019-11-10  16:00:31   combo    \n23792 2020-01-26  12:22:30   combo    \n\n                                                 Message  Severity  Process  \\\n23655  urlordomainb avc deni search pid number exe us...         1   kernel   \n7335   authent fail ipaddress urlordomain softwar cau...         1  klogind   \n5992                          bring interfac eth succeed         0  network   \n23954  urlordomainb avc deni name bind pid exe usr sb...         1   kernel   \n23684  urlordomainb syscal number exit number fefff c...         0   kernel   \n205                     bluetooth hci socket layer initi         0   kernel   \n18696                                  clear page tabl f         1   kernel   \n35                                         selinux initi         0   kernel   \n8220                               hda dma timeout retri         0   kernel   \n23792  urlordomainb avc deni read pid exe usr sbin ku...         1   kernel   \n\n           PID  User             IP  Len  \n23655      NaN  root      127.0.0.1  195  \n7335   [22519]  root  81.181.213.88  107  \n5992       NaN  root      127.0.0.1   39  \n23954      NaN  root      127.0.0.1  184  \n23684      NaN  root      127.0.0.1  176  \n205        NaN  root      127.0.0.1   39  \n18696      NaN  root      127.0.0.1   41  \n35         NaN  root      127.0.0.1   23  \n8220       NaN  root      127.0.0.1   22  \n23792      NaN  root      127.0.0.1  206  "
     },
     "execution_count": 15,
     "metadata": {},
     "output_type": "execute_result"
    }
   ],
   "source": [
    "clean_df = df.drop_duplicates(subset='Message', keep = 'first')\r\n",
    "clean_df.sample(10)"
   ]
  },
  {
   "cell_type": "code",
   "execution_count": 17,
   "metadata": {},
   "outputs": [
    {
     "data": {
      "text/plain": "(858, 10)"
     },
     "execution_count": 17,
     "metadata": {},
     "output_type": "execute_result"
    }
   ],
   "source": [
    "clean_df.shape"
   ]
  },
  {
   "cell_type": "code",
   "execution_count": null,
   "metadata": {},
   "outputs": [],
   "source": []
  }
 ],
 "metadata": {
  "kernelspec": {
   "display_name": "Python 3.8.5 64-bit ('base': conda)",
   "name": "python385jvsc74a57bd040beb175d8c858d1ff08315a1afe95f7a8d85aa391c5cea88297e971ddbb14a1"
  },
  "language_info": {
   "codemirror_mode": {
    "name": "ipython",
    "version": 3
   },
   "file_extension": ".py",
   "mimetype": "text/x-python",
   "name": "python",
   "nbconvert_exporter": "python",
   "pygments_lexer": "ipython3",
   "version": "3.8.5"
  },
  "orig_nbformat": 2
 },
 "nbformat": 4,
 "nbformat_minor": 2
}